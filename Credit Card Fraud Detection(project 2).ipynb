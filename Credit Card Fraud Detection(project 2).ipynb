{
 "cells": [
  {
   "cell_type": "markdown",
   "id": "a77ba419",
   "metadata": {},
   "source": [
    "# Context "
   ]
  },
  {
   "cell_type": "raw",
   "id": "196da137",
   "metadata": {},
   "source": [
    "It is important that credit card companies are able to recognize fraudulent credit card transactions so that customers are not charged for items that they did not purchase."
   ]
  },
  {
   "cell_type": "markdown",
   "id": "22ab0d1e",
   "metadata": {},
   "source": [
    "# Importing required Library"
   ]
  },
  {
   "cell_type": "markdown",
   "id": "82dbd17c",
   "metadata": {},
   "source": [
    "# Context "
   ]
  },
  {
   "cell_type": "markdown",
   "id": "a57f5893",
   "metadata": {},
   "source": [
    "# Context "
   ]
  },
  {
   "cell_type": "code",
   "execution_count": 1,
   "id": "a765c677",
   "metadata": {},
   "outputs": [],
   "source": [
    "import pandas as pd\n",
    "from sklearn.model_selection import train_test_split\n",
    "from sklearn.linear_model import LogisticRegression\n",
    "from sklearn.ensemble import RandomForestClassifier\n",
    "from sklearn.svm import SVC\n",
    "from sklearn.metrics import accuracy_score, classification_report\n",
    "import warnings\n",
    "warnings.filterwarnings('ignore')"
   ]
  },
  {
   "cell_type": "code",
   "execution_count": 2,
   "id": "88cf1368",
   "metadata": {},
   "outputs": [],
   "source": [
    "df=pd.read_csv(\"D:\\\\batchs\\\\2023\\\\cvs .file\\\\creditcard.csv\")"
   ]
  },
  {
   "cell_type": "code",
   "execution_count": 3,
   "id": "af10baef",
   "metadata": {},
   "outputs": [
    {
     "data": {
      "text/html": [
       "<div>\n",
       "<style scoped>\n",
       "    .dataframe tbody tr th:only-of-type {\n",
       "        vertical-align: middle;\n",
       "    }\n",
       "\n",
       "    .dataframe tbody tr th {\n",
       "        vertical-align: top;\n",
       "    }\n",
       "\n",
       "    .dataframe thead th {\n",
       "        text-align: right;\n",
       "    }\n",
       "</style>\n",
       "<table border=\"1\" class=\"dataframe\">\n",
       "  <thead>\n",
       "    <tr style=\"text-align: right;\">\n",
       "      <th></th>\n",
       "      <th>Time</th>\n",
       "      <th>V1</th>\n",
       "      <th>V2</th>\n",
       "      <th>V3</th>\n",
       "      <th>V4</th>\n",
       "      <th>V5</th>\n",
       "      <th>V6</th>\n",
       "      <th>V7</th>\n",
       "      <th>V8</th>\n",
       "      <th>V9</th>\n",
       "      <th>...</th>\n",
       "      <th>V21</th>\n",
       "      <th>V22</th>\n",
       "      <th>V23</th>\n",
       "      <th>V24</th>\n",
       "      <th>V25</th>\n",
       "      <th>V26</th>\n",
       "      <th>V27</th>\n",
       "      <th>V28</th>\n",
       "      <th>Amount</th>\n",
       "      <th>Class</th>\n",
       "    </tr>\n",
       "  </thead>\n",
       "  <tbody>\n",
       "    <tr>\n",
       "      <th>0</th>\n",
       "      <td>0.0</td>\n",
       "      <td>-1.359807</td>\n",
       "      <td>-0.072781</td>\n",
       "      <td>2.536347</td>\n",
       "      <td>1.378155</td>\n",
       "      <td>-0.338321</td>\n",
       "      <td>0.462388</td>\n",
       "      <td>0.239599</td>\n",
       "      <td>0.098698</td>\n",
       "      <td>0.363787</td>\n",
       "      <td>...</td>\n",
       "      <td>-0.018307</td>\n",
       "      <td>0.277838</td>\n",
       "      <td>-0.110474</td>\n",
       "      <td>0.066928</td>\n",
       "      <td>0.128539</td>\n",
       "      <td>-0.189115</td>\n",
       "      <td>0.133558</td>\n",
       "      <td>-0.021053</td>\n",
       "      <td>149.62</td>\n",
       "      <td>0</td>\n",
       "    </tr>\n",
       "    <tr>\n",
       "      <th>1</th>\n",
       "      <td>0.0</td>\n",
       "      <td>1.191857</td>\n",
       "      <td>0.266151</td>\n",
       "      <td>0.166480</td>\n",
       "      <td>0.448154</td>\n",
       "      <td>0.060018</td>\n",
       "      <td>-0.082361</td>\n",
       "      <td>-0.078803</td>\n",
       "      <td>0.085102</td>\n",
       "      <td>-0.255425</td>\n",
       "      <td>...</td>\n",
       "      <td>-0.225775</td>\n",
       "      <td>-0.638672</td>\n",
       "      <td>0.101288</td>\n",
       "      <td>-0.339846</td>\n",
       "      <td>0.167170</td>\n",
       "      <td>0.125895</td>\n",
       "      <td>-0.008983</td>\n",
       "      <td>0.014724</td>\n",
       "      <td>2.69</td>\n",
       "      <td>0</td>\n",
       "    </tr>\n",
       "    <tr>\n",
       "      <th>2</th>\n",
       "      <td>1.0</td>\n",
       "      <td>-1.358354</td>\n",
       "      <td>-1.340163</td>\n",
       "      <td>1.773209</td>\n",
       "      <td>0.379780</td>\n",
       "      <td>-0.503198</td>\n",
       "      <td>1.800499</td>\n",
       "      <td>0.791461</td>\n",
       "      <td>0.247676</td>\n",
       "      <td>-1.514654</td>\n",
       "      <td>...</td>\n",
       "      <td>0.247998</td>\n",
       "      <td>0.771679</td>\n",
       "      <td>0.909412</td>\n",
       "      <td>-0.689281</td>\n",
       "      <td>-0.327642</td>\n",
       "      <td>-0.139097</td>\n",
       "      <td>-0.055353</td>\n",
       "      <td>-0.059752</td>\n",
       "      <td>378.66</td>\n",
       "      <td>0</td>\n",
       "    </tr>\n",
       "    <tr>\n",
       "      <th>3</th>\n",
       "      <td>1.0</td>\n",
       "      <td>-0.966272</td>\n",
       "      <td>-0.185226</td>\n",
       "      <td>1.792993</td>\n",
       "      <td>-0.863291</td>\n",
       "      <td>-0.010309</td>\n",
       "      <td>1.247203</td>\n",
       "      <td>0.237609</td>\n",
       "      <td>0.377436</td>\n",
       "      <td>-1.387024</td>\n",
       "      <td>...</td>\n",
       "      <td>-0.108300</td>\n",
       "      <td>0.005274</td>\n",
       "      <td>-0.190321</td>\n",
       "      <td>-1.175575</td>\n",
       "      <td>0.647376</td>\n",
       "      <td>-0.221929</td>\n",
       "      <td>0.062723</td>\n",
       "      <td>0.061458</td>\n",
       "      <td>123.50</td>\n",
       "      <td>0</td>\n",
       "    </tr>\n",
       "    <tr>\n",
       "      <th>4</th>\n",
       "      <td>2.0</td>\n",
       "      <td>-1.158233</td>\n",
       "      <td>0.877737</td>\n",
       "      <td>1.548718</td>\n",
       "      <td>0.403034</td>\n",
       "      <td>-0.407193</td>\n",
       "      <td>0.095921</td>\n",
       "      <td>0.592941</td>\n",
       "      <td>-0.270533</td>\n",
       "      <td>0.817739</td>\n",
       "      <td>...</td>\n",
       "      <td>-0.009431</td>\n",
       "      <td>0.798278</td>\n",
       "      <td>-0.137458</td>\n",
       "      <td>0.141267</td>\n",
       "      <td>-0.206010</td>\n",
       "      <td>0.502292</td>\n",
       "      <td>0.219422</td>\n",
       "      <td>0.215153</td>\n",
       "      <td>69.99</td>\n",
       "      <td>0</td>\n",
       "    </tr>\n",
       "  </tbody>\n",
       "</table>\n",
       "<p>5 rows × 31 columns</p>\n",
       "</div>"
      ],
      "text/plain": [
       "   Time        V1        V2        V3        V4        V5        V6        V7  \\\n",
       "0   0.0 -1.359807 -0.072781  2.536347  1.378155 -0.338321  0.462388  0.239599   \n",
       "1   0.0  1.191857  0.266151  0.166480  0.448154  0.060018 -0.082361 -0.078803   \n",
       "2   1.0 -1.358354 -1.340163  1.773209  0.379780 -0.503198  1.800499  0.791461   \n",
       "3   1.0 -0.966272 -0.185226  1.792993 -0.863291 -0.010309  1.247203  0.237609   \n",
       "4   2.0 -1.158233  0.877737  1.548718  0.403034 -0.407193  0.095921  0.592941   \n",
       "\n",
       "         V8        V9  ...       V21       V22       V23       V24       V25  \\\n",
       "0  0.098698  0.363787  ... -0.018307  0.277838 -0.110474  0.066928  0.128539   \n",
       "1  0.085102 -0.255425  ... -0.225775 -0.638672  0.101288 -0.339846  0.167170   \n",
       "2  0.247676 -1.514654  ...  0.247998  0.771679  0.909412 -0.689281 -0.327642   \n",
       "3  0.377436 -1.387024  ... -0.108300  0.005274 -0.190321 -1.175575  0.647376   \n",
       "4 -0.270533  0.817739  ... -0.009431  0.798278 -0.137458  0.141267 -0.206010   \n",
       "\n",
       "        V26       V27       V28  Amount  Class  \n",
       "0 -0.189115  0.133558 -0.021053  149.62      0  \n",
       "1  0.125895 -0.008983  0.014724    2.69      0  \n",
       "2 -0.139097 -0.055353 -0.059752  378.66      0  \n",
       "3 -0.221929  0.062723  0.061458  123.50      0  \n",
       "4  0.502292  0.219422  0.215153   69.99      0  \n",
       "\n",
       "[5 rows x 31 columns]"
      ]
     },
     "execution_count": 3,
     "metadata": {},
     "output_type": "execute_result"
    }
   ],
   "source": [
    "# it gives the first five elements\n",
    "df.head()"
   ]
  },
  {
   "cell_type": "code",
   "execution_count": 4,
   "id": "7bf2ed53",
   "metadata": {
    "scrolled": true
   },
   "outputs": [
    {
     "data": {
      "text/html": [
       "<div>\n",
       "<style scoped>\n",
       "    .dataframe tbody tr th:only-of-type {\n",
       "        vertical-align: middle;\n",
       "    }\n",
       "\n",
       "    .dataframe tbody tr th {\n",
       "        vertical-align: top;\n",
       "    }\n",
       "\n",
       "    .dataframe thead th {\n",
       "        text-align: right;\n",
       "    }\n",
       "</style>\n",
       "<table border=\"1\" class=\"dataframe\">\n",
       "  <thead>\n",
       "    <tr style=\"text-align: right;\">\n",
       "      <th></th>\n",
       "      <th>Time</th>\n",
       "      <th>V1</th>\n",
       "      <th>V2</th>\n",
       "      <th>V3</th>\n",
       "      <th>V4</th>\n",
       "      <th>V5</th>\n",
       "      <th>V6</th>\n",
       "      <th>V7</th>\n",
       "      <th>V8</th>\n",
       "      <th>V9</th>\n",
       "      <th>...</th>\n",
       "      <th>V21</th>\n",
       "      <th>V22</th>\n",
       "      <th>V23</th>\n",
       "      <th>V24</th>\n",
       "      <th>V25</th>\n",
       "      <th>V26</th>\n",
       "      <th>V27</th>\n",
       "      <th>V28</th>\n",
       "      <th>Amount</th>\n",
       "      <th>Class</th>\n",
       "    </tr>\n",
       "  </thead>\n",
       "  <tbody>\n",
       "    <tr>\n",
       "      <th>284802</th>\n",
       "      <td>172786.0</td>\n",
       "      <td>-11.881118</td>\n",
       "      <td>10.071785</td>\n",
       "      <td>-9.834783</td>\n",
       "      <td>-2.066656</td>\n",
       "      <td>-5.364473</td>\n",
       "      <td>-2.606837</td>\n",
       "      <td>-4.918215</td>\n",
       "      <td>7.305334</td>\n",
       "      <td>1.914428</td>\n",
       "      <td>...</td>\n",
       "      <td>0.213454</td>\n",
       "      <td>0.111864</td>\n",
       "      <td>1.014480</td>\n",
       "      <td>-0.509348</td>\n",
       "      <td>1.436807</td>\n",
       "      <td>0.250034</td>\n",
       "      <td>0.943651</td>\n",
       "      <td>0.823731</td>\n",
       "      <td>0.77</td>\n",
       "      <td>0</td>\n",
       "    </tr>\n",
       "    <tr>\n",
       "      <th>284803</th>\n",
       "      <td>172787.0</td>\n",
       "      <td>-0.732789</td>\n",
       "      <td>-0.055080</td>\n",
       "      <td>2.035030</td>\n",
       "      <td>-0.738589</td>\n",
       "      <td>0.868229</td>\n",
       "      <td>1.058415</td>\n",
       "      <td>0.024330</td>\n",
       "      <td>0.294869</td>\n",
       "      <td>0.584800</td>\n",
       "      <td>...</td>\n",
       "      <td>0.214205</td>\n",
       "      <td>0.924384</td>\n",
       "      <td>0.012463</td>\n",
       "      <td>-1.016226</td>\n",
       "      <td>-0.606624</td>\n",
       "      <td>-0.395255</td>\n",
       "      <td>0.068472</td>\n",
       "      <td>-0.053527</td>\n",
       "      <td>24.79</td>\n",
       "      <td>0</td>\n",
       "    </tr>\n",
       "    <tr>\n",
       "      <th>284804</th>\n",
       "      <td>172788.0</td>\n",
       "      <td>1.919565</td>\n",
       "      <td>-0.301254</td>\n",
       "      <td>-3.249640</td>\n",
       "      <td>-0.557828</td>\n",
       "      <td>2.630515</td>\n",
       "      <td>3.031260</td>\n",
       "      <td>-0.296827</td>\n",
       "      <td>0.708417</td>\n",
       "      <td>0.432454</td>\n",
       "      <td>...</td>\n",
       "      <td>0.232045</td>\n",
       "      <td>0.578229</td>\n",
       "      <td>-0.037501</td>\n",
       "      <td>0.640134</td>\n",
       "      <td>0.265745</td>\n",
       "      <td>-0.087371</td>\n",
       "      <td>0.004455</td>\n",
       "      <td>-0.026561</td>\n",
       "      <td>67.88</td>\n",
       "      <td>0</td>\n",
       "    </tr>\n",
       "    <tr>\n",
       "      <th>284805</th>\n",
       "      <td>172788.0</td>\n",
       "      <td>-0.240440</td>\n",
       "      <td>0.530483</td>\n",
       "      <td>0.702510</td>\n",
       "      <td>0.689799</td>\n",
       "      <td>-0.377961</td>\n",
       "      <td>0.623708</td>\n",
       "      <td>-0.686180</td>\n",
       "      <td>0.679145</td>\n",
       "      <td>0.392087</td>\n",
       "      <td>...</td>\n",
       "      <td>0.265245</td>\n",
       "      <td>0.800049</td>\n",
       "      <td>-0.163298</td>\n",
       "      <td>0.123205</td>\n",
       "      <td>-0.569159</td>\n",
       "      <td>0.546668</td>\n",
       "      <td>0.108821</td>\n",
       "      <td>0.104533</td>\n",
       "      <td>10.00</td>\n",
       "      <td>0</td>\n",
       "    </tr>\n",
       "    <tr>\n",
       "      <th>284806</th>\n",
       "      <td>172792.0</td>\n",
       "      <td>-0.533413</td>\n",
       "      <td>-0.189733</td>\n",
       "      <td>0.703337</td>\n",
       "      <td>-0.506271</td>\n",
       "      <td>-0.012546</td>\n",
       "      <td>-0.649617</td>\n",
       "      <td>1.577006</td>\n",
       "      <td>-0.414650</td>\n",
       "      <td>0.486180</td>\n",
       "      <td>...</td>\n",
       "      <td>0.261057</td>\n",
       "      <td>0.643078</td>\n",
       "      <td>0.376777</td>\n",
       "      <td>0.008797</td>\n",
       "      <td>-0.473649</td>\n",
       "      <td>-0.818267</td>\n",
       "      <td>-0.002415</td>\n",
       "      <td>0.013649</td>\n",
       "      <td>217.00</td>\n",
       "      <td>0</td>\n",
       "    </tr>\n",
       "  </tbody>\n",
       "</table>\n",
       "<p>5 rows × 31 columns</p>\n",
       "</div>"
      ],
      "text/plain": [
       "            Time         V1         V2        V3        V4        V5  \\\n",
       "284802  172786.0 -11.881118  10.071785 -9.834783 -2.066656 -5.364473   \n",
       "284803  172787.0  -0.732789  -0.055080  2.035030 -0.738589  0.868229   \n",
       "284804  172788.0   1.919565  -0.301254 -3.249640 -0.557828  2.630515   \n",
       "284805  172788.0  -0.240440   0.530483  0.702510  0.689799 -0.377961   \n",
       "284806  172792.0  -0.533413  -0.189733  0.703337 -0.506271 -0.012546   \n",
       "\n",
       "              V6        V7        V8        V9  ...       V21       V22  \\\n",
       "284802 -2.606837 -4.918215  7.305334  1.914428  ...  0.213454  0.111864   \n",
       "284803  1.058415  0.024330  0.294869  0.584800  ...  0.214205  0.924384   \n",
       "284804  3.031260 -0.296827  0.708417  0.432454  ...  0.232045  0.578229   \n",
       "284805  0.623708 -0.686180  0.679145  0.392087  ...  0.265245  0.800049   \n",
       "284806 -0.649617  1.577006 -0.414650  0.486180  ...  0.261057  0.643078   \n",
       "\n",
       "             V23       V24       V25       V26       V27       V28  Amount  \\\n",
       "284802  1.014480 -0.509348  1.436807  0.250034  0.943651  0.823731    0.77   \n",
       "284803  0.012463 -1.016226 -0.606624 -0.395255  0.068472 -0.053527   24.79   \n",
       "284804 -0.037501  0.640134  0.265745 -0.087371  0.004455 -0.026561   67.88   \n",
       "284805 -0.163298  0.123205 -0.569159  0.546668  0.108821  0.104533   10.00   \n",
       "284806  0.376777  0.008797 -0.473649 -0.818267 -0.002415  0.013649  217.00   \n",
       "\n",
       "        Class  \n",
       "284802      0  \n",
       "284803      0  \n",
       "284804      0  \n",
       "284805      0  \n",
       "284806      0  \n",
       "\n",
       "[5 rows x 31 columns]"
      ]
     },
     "execution_count": 4,
     "metadata": {},
     "output_type": "execute_result"
    }
   ],
   "source": [
    "df.tail()"
   ]
  },
  {
   "cell_type": "markdown",
   "id": "a4571697",
   "metadata": {},
   "source": [
    "INTRODUCTION"
   ]
  },
  {
   "cell_type": "code",
   "execution_count": null,
   "id": "0b3038a9",
   "metadata": {},
   "outputs": [],
   "source": [
    "Contains information about credit card transactions.\n",
    ".The dataset includes features such as time, transaction amount, and various anonymized features (V1, V2, V3, etc.) obtained from credit card transactions.\n",
    ".The \"Class\" column indicates whether a transaction is fraudulent (1) or not (0)\n",
    "V1 - V28: These columns appear to contain anonymized numerical features extracted from credit card transactions.\n",
    "They may represent various aspects of the transactions, such as transaction amounts, locations, or other attributes. The specific meaning of these features may not be available due to anonymization"
   ]
  },
  {
   "cell_type": "raw",
   "id": "87bbfd9d",
   "metadata": {},
   "source": [
    "CHALLENGES\n",
    "**Main challenges involved in credit card fraud detection are:\n",
    "1.Enormous Data is processed every day and the model build must be fast enough to respond to the scam in time.\n",
    "2.Imbalanced Data i.e most of the transactions (99.8%) are not fraudulent which makes it really hard for detecting the fraudulent ones.\n",
    "3.Data availability as the data is mostly private.\n",
    "4.Misclassified Data can be another major issue, as not every fraudulent transaction is caught and reported.\n",
    "\n",
    "**How to tackle these challenges?\n",
    "1.The model used must be simple and fast enough to detect the anomaly and classify it as a fraudulent transaction as quickly as possible.\n",
    "Imbalance can be dealt with by properly using some methods which we will talk about in the next paragraph"
   ]
  },
  {
   "cell_type": "code",
   "execution_count": 5,
   "id": "a284156f",
   "metadata": {},
   "outputs": [
    {
     "data": {
      "text/plain": [
       "(284807, 31)"
      ]
     },
     "execution_count": 5,
     "metadata": {},
     "output_type": "execute_result"
    }
   ],
   "source": [
    "# it check the size of row and column\n",
    "df.shape"
   ]
  },
  {
   "cell_type": "code",
   "execution_count": 6,
   "id": "a2ca9796",
   "metadata": {},
   "outputs": [
    {
     "name": "stdout",
     "output_type": "stream",
     "text": [
      "<class 'pandas.core.frame.DataFrame'>\n",
      "RangeIndex: 284807 entries, 0 to 284806\n",
      "Data columns (total 31 columns):\n",
      " #   Column  Non-Null Count   Dtype  \n",
      "---  ------  --------------   -----  \n",
      " 0   Time    284807 non-null  float64\n",
      " 1   V1      284807 non-null  float64\n",
      " 2   V2      284807 non-null  float64\n",
      " 3   V3      284807 non-null  float64\n",
      " 4   V4      284807 non-null  float64\n",
      " 5   V5      284807 non-null  float64\n",
      " 6   V6      284807 non-null  float64\n",
      " 7   V7      284807 non-null  float64\n",
      " 8   V8      284807 non-null  float64\n",
      " 9   V9      284807 non-null  float64\n",
      " 10  V10     284807 non-null  float64\n",
      " 11  V11     284807 non-null  float64\n",
      " 12  V12     284807 non-null  float64\n",
      " 13  V13     284807 non-null  float64\n",
      " 14  V14     284807 non-null  float64\n",
      " 15  V15     284807 non-null  float64\n",
      " 16  V16     284807 non-null  float64\n",
      " 17  V17     284807 non-null  float64\n",
      " 18  V18     284807 non-null  float64\n",
      " 19  V19     284807 non-null  float64\n",
      " 20  V20     284807 non-null  float64\n",
      " 21  V21     284807 non-null  float64\n",
      " 22  V22     284807 non-null  float64\n",
      " 23  V23     284807 non-null  float64\n",
      " 24  V24     284807 non-null  float64\n",
      " 25  V25     284807 non-null  float64\n",
      " 26  V26     284807 non-null  float64\n",
      " 27  V27     284807 non-null  float64\n",
      " 28  V28     284807 non-null  float64\n",
      " 29  Amount  284807 non-null  float64\n",
      " 30  Class   284807 non-null  int64  \n",
      "dtypes: float64(30), int64(1)\n",
      "memory usage: 67.4 MB\n"
     ]
    }
   ],
   "source": [
    "# It gives the information of colums\n",
    "df.info()"
   ]
  },
  {
   "cell_type": "code",
   "execution_count": 7,
   "id": "dc17ce0f",
   "metadata": {},
   "outputs": [
    {
     "data": {
      "text/plain": [
       "Time      0\n",
       "V1        0\n",
       "V2        0\n",
       "V3        0\n",
       "V4        0\n",
       "V5        0\n",
       "V6        0\n",
       "V7        0\n",
       "V8        0\n",
       "V9        0\n",
       "V10       0\n",
       "V11       0\n",
       "V12       0\n",
       "V13       0\n",
       "V14       0\n",
       "V15       0\n",
       "V16       0\n",
       "V17       0\n",
       "V18       0\n",
       "V19       0\n",
       "V20       0\n",
       "V21       0\n",
       "V22       0\n",
       "V23       0\n",
       "V24       0\n",
       "V25       0\n",
       "V26       0\n",
       "V27       0\n",
       "V28       0\n",
       "Amount    0\n",
       "Class     0\n",
       "dtype: int64"
      ]
     },
     "execution_count": 7,
     "metadata": {},
     "output_type": "execute_result"
    }
   ],
   "source": [
    "#It check the null value\n",
    "df.isnull().sum()"
   ]
  },
  {
   "cell_type": "code",
   "execution_count": 8,
   "id": "144a8e8c",
   "metadata": {},
   "outputs": [
    {
     "data": {
      "text/html": [
       "<div>\n",
       "<style scoped>\n",
       "    .dataframe tbody tr th:only-of-type {\n",
       "        vertical-align: middle;\n",
       "    }\n",
       "\n",
       "    .dataframe tbody tr th {\n",
       "        vertical-align: top;\n",
       "    }\n",
       "\n",
       "    .dataframe thead th {\n",
       "        text-align: right;\n",
       "    }\n",
       "</style>\n",
       "<table border=\"1\" class=\"dataframe\">\n",
       "  <thead>\n",
       "    <tr style=\"text-align: right;\">\n",
       "      <th></th>\n",
       "      <th>count</th>\n",
       "      <th>mean</th>\n",
       "      <th>std</th>\n",
       "      <th>min</th>\n",
       "      <th>25%</th>\n",
       "      <th>50%</th>\n",
       "      <th>75%</th>\n",
       "      <th>max</th>\n",
       "    </tr>\n",
       "  </thead>\n",
       "  <tbody>\n",
       "    <tr>\n",
       "      <th>Time</th>\n",
       "      <td>284807.0</td>\n",
       "      <td>9.481386e+04</td>\n",
       "      <td>47488.145955</td>\n",
       "      <td>0.000000</td>\n",
       "      <td>54201.500000</td>\n",
       "      <td>84692.000000</td>\n",
       "      <td>139320.500000</td>\n",
       "      <td>172792.000000</td>\n",
       "    </tr>\n",
       "    <tr>\n",
       "      <th>V1</th>\n",
       "      <td>284807.0</td>\n",
       "      <td>1.758702e-12</td>\n",
       "      <td>1.958696</td>\n",
       "      <td>-56.407510</td>\n",
       "      <td>-0.920373</td>\n",
       "      <td>0.018109</td>\n",
       "      <td>1.315642</td>\n",
       "      <td>2.454930</td>\n",
       "    </tr>\n",
       "    <tr>\n",
       "      <th>V2</th>\n",
       "      <td>284807.0</td>\n",
       "      <td>-8.252296e-13</td>\n",
       "      <td>1.651309</td>\n",
       "      <td>-72.715728</td>\n",
       "      <td>-0.598550</td>\n",
       "      <td>0.065486</td>\n",
       "      <td>0.803724</td>\n",
       "      <td>22.057729</td>\n",
       "    </tr>\n",
       "    <tr>\n",
       "      <th>V3</th>\n",
       "      <td>284807.0</td>\n",
       "      <td>-9.637438e-13</td>\n",
       "      <td>1.516255</td>\n",
       "      <td>-48.325589</td>\n",
       "      <td>-0.890365</td>\n",
       "      <td>0.179846</td>\n",
       "      <td>1.027196</td>\n",
       "      <td>9.382558</td>\n",
       "    </tr>\n",
       "    <tr>\n",
       "      <th>V4</th>\n",
       "      <td>284807.0</td>\n",
       "      <td>8.316234e-13</td>\n",
       "      <td>1.415869</td>\n",
       "      <td>-5.683171</td>\n",
       "      <td>-0.848640</td>\n",
       "      <td>-0.019847</td>\n",
       "      <td>0.743341</td>\n",
       "      <td>16.875344</td>\n",
       "    </tr>\n",
       "    <tr>\n",
       "      <th>V5</th>\n",
       "      <td>284807.0</td>\n",
       "      <td>1.592013e-13</td>\n",
       "      <td>1.380247</td>\n",
       "      <td>-113.743307</td>\n",
       "      <td>-0.691597</td>\n",
       "      <td>-0.054336</td>\n",
       "      <td>0.611926</td>\n",
       "      <td>34.801666</td>\n",
       "    </tr>\n",
       "    <tr>\n",
       "      <th>V6</th>\n",
       "      <td>284807.0</td>\n",
       "      <td>4.247308e-13</td>\n",
       "      <td>1.332271</td>\n",
       "      <td>-26.160506</td>\n",
       "      <td>-0.768296</td>\n",
       "      <td>-0.274187</td>\n",
       "      <td>0.398565</td>\n",
       "      <td>73.301626</td>\n",
       "    </tr>\n",
       "    <tr>\n",
       "      <th>V7</th>\n",
       "      <td>284807.0</td>\n",
       "      <td>-3.050183e-13</td>\n",
       "      <td>1.237094</td>\n",
       "      <td>-43.557242</td>\n",
       "      <td>-0.554076</td>\n",
       "      <td>0.040103</td>\n",
       "      <td>0.570436</td>\n",
       "      <td>120.589494</td>\n",
       "    </tr>\n",
       "    <tr>\n",
       "      <th>V8</th>\n",
       "      <td>284807.0</td>\n",
       "      <td>8.692882e-14</td>\n",
       "      <td>1.194353</td>\n",
       "      <td>-73.216718</td>\n",
       "      <td>-0.208630</td>\n",
       "      <td>0.022358</td>\n",
       "      <td>0.327346</td>\n",
       "      <td>20.007208</td>\n",
       "    </tr>\n",
       "    <tr>\n",
       "      <th>V9</th>\n",
       "      <td>284807.0</td>\n",
       "      <td>-1.179710e-12</td>\n",
       "      <td>1.098632</td>\n",
       "      <td>-13.434066</td>\n",
       "      <td>-0.643098</td>\n",
       "      <td>-0.051429</td>\n",
       "      <td>0.597139</td>\n",
       "      <td>15.594995</td>\n",
       "    </tr>\n",
       "    <tr>\n",
       "      <th>V10</th>\n",
       "      <td>284807.0</td>\n",
       "      <td>7.094921e-13</td>\n",
       "      <td>1.088850</td>\n",
       "      <td>-24.588262</td>\n",
       "      <td>-0.535426</td>\n",
       "      <td>-0.092917</td>\n",
       "      <td>0.453923</td>\n",
       "      <td>23.745136</td>\n",
       "    </tr>\n",
       "    <tr>\n",
       "      <th>V11</th>\n",
       "      <td>284807.0</td>\n",
       "      <td>1.875022e-12</td>\n",
       "      <td>1.020713</td>\n",
       "      <td>-4.797473</td>\n",
       "      <td>-0.762494</td>\n",
       "      <td>-0.032757</td>\n",
       "      <td>0.739593</td>\n",
       "      <td>12.018913</td>\n",
       "    </tr>\n",
       "    <tr>\n",
       "      <th>V12</th>\n",
       "      <td>284807.0</td>\n",
       "      <td>1.053507e-12</td>\n",
       "      <td>0.999201</td>\n",
       "      <td>-18.683715</td>\n",
       "      <td>-0.405571</td>\n",
       "      <td>0.140033</td>\n",
       "      <td>0.618238</td>\n",
       "      <td>7.848392</td>\n",
       "    </tr>\n",
       "    <tr>\n",
       "      <th>V13</th>\n",
       "      <td>284807.0</td>\n",
       "      <td>7.137575e-13</td>\n",
       "      <td>0.995274</td>\n",
       "      <td>-5.791881</td>\n",
       "      <td>-0.648539</td>\n",
       "      <td>-0.013568</td>\n",
       "      <td>0.662505</td>\n",
       "      <td>7.126883</td>\n",
       "    </tr>\n",
       "    <tr>\n",
       "      <th>V14</th>\n",
       "      <td>284807.0</td>\n",
       "      <td>-1.491369e-13</td>\n",
       "      <td>0.958596</td>\n",
       "      <td>-19.214325</td>\n",
       "      <td>-0.425574</td>\n",
       "      <td>0.050601</td>\n",
       "      <td>0.493150</td>\n",
       "      <td>10.526766</td>\n",
       "    </tr>\n",
       "    <tr>\n",
       "      <th>V15</th>\n",
       "      <td>284807.0</td>\n",
       "      <td>-5.225946e-13</td>\n",
       "      <td>0.915316</td>\n",
       "      <td>-4.498945</td>\n",
       "      <td>-0.582884</td>\n",
       "      <td>0.048072</td>\n",
       "      <td>0.648821</td>\n",
       "      <td>8.877742</td>\n",
       "    </tr>\n",
       "    <tr>\n",
       "      <th>V16</th>\n",
       "      <td>284807.0</td>\n",
       "      <td>-2.280687e-13</td>\n",
       "      <td>0.876253</td>\n",
       "      <td>-14.129855</td>\n",
       "      <td>-0.468037</td>\n",
       "      <td>0.066413</td>\n",
       "      <td>0.523296</td>\n",
       "      <td>17.315112</td>\n",
       "    </tr>\n",
       "    <tr>\n",
       "      <th>V17</th>\n",
       "      <td>284807.0</td>\n",
       "      <td>-6.428451e-13</td>\n",
       "      <td>0.849337</td>\n",
       "      <td>-25.162799</td>\n",
       "      <td>-0.483748</td>\n",
       "      <td>-0.065676</td>\n",
       "      <td>0.399675</td>\n",
       "      <td>9.253526</td>\n",
       "    </tr>\n",
       "    <tr>\n",
       "      <th>V18</th>\n",
       "      <td>284807.0</td>\n",
       "      <td>4.958999e-13</td>\n",
       "      <td>0.838176</td>\n",
       "      <td>-9.498746</td>\n",
       "      <td>-0.498850</td>\n",
       "      <td>-0.003636</td>\n",
       "      <td>0.500807</td>\n",
       "      <td>5.041069</td>\n",
       "    </tr>\n",
       "    <tr>\n",
       "      <th>V19</th>\n",
       "      <td>284807.0</td>\n",
       "      <td>7.060690e-13</td>\n",
       "      <td>0.814041</td>\n",
       "      <td>-7.213527</td>\n",
       "      <td>-0.456299</td>\n",
       "      <td>0.003735</td>\n",
       "      <td>0.458949</td>\n",
       "      <td>5.591971</td>\n",
       "    </tr>\n",
       "    <tr>\n",
       "      <th>V20</th>\n",
       "      <td>284807.0</td>\n",
       "      <td>1.766044e-12</td>\n",
       "      <td>0.770925</td>\n",
       "      <td>-54.497720</td>\n",
       "      <td>-0.211721</td>\n",
       "      <td>-0.062481</td>\n",
       "      <td>0.133041</td>\n",
       "      <td>39.420904</td>\n",
       "    </tr>\n",
       "    <tr>\n",
       "      <th>V21</th>\n",
       "      <td>284807.0</td>\n",
       "      <td>-3.406538e-13</td>\n",
       "      <td>0.734524</td>\n",
       "      <td>-34.830382</td>\n",
       "      <td>-0.228395</td>\n",
       "      <td>-0.029450</td>\n",
       "      <td>0.186377</td>\n",
       "      <td>27.202839</td>\n",
       "    </tr>\n",
       "    <tr>\n",
       "      <th>V22</th>\n",
       "      <td>284807.0</td>\n",
       "      <td>-5.713357e-13</td>\n",
       "      <td>0.725702</td>\n",
       "      <td>-10.933144</td>\n",
       "      <td>-0.542350</td>\n",
       "      <td>0.006782</td>\n",
       "      <td>0.528554</td>\n",
       "      <td>10.503090</td>\n",
       "    </tr>\n",
       "    <tr>\n",
       "      <th>V23</th>\n",
       "      <td>284807.0</td>\n",
       "      <td>-9.725290e-13</td>\n",
       "      <td>0.624460</td>\n",
       "      <td>-44.807735</td>\n",
       "      <td>-0.161846</td>\n",
       "      <td>-0.011193</td>\n",
       "      <td>0.147642</td>\n",
       "      <td>22.528412</td>\n",
       "    </tr>\n",
       "    <tr>\n",
       "      <th>V24</th>\n",
       "      <td>284807.0</td>\n",
       "      <td>1.464144e-12</td>\n",
       "      <td>0.605647</td>\n",
       "      <td>-2.836627</td>\n",
       "      <td>-0.354586</td>\n",
       "      <td>0.040976</td>\n",
       "      <td>0.439527</td>\n",
       "      <td>4.584549</td>\n",
       "    </tr>\n",
       "    <tr>\n",
       "      <th>V25</th>\n",
       "      <td>284807.0</td>\n",
       "      <td>-6.989090e-13</td>\n",
       "      <td>0.521278</td>\n",
       "      <td>-10.295397</td>\n",
       "      <td>-0.317145</td>\n",
       "      <td>0.016594</td>\n",
       "      <td>0.350716</td>\n",
       "      <td>7.519589</td>\n",
       "    </tr>\n",
       "    <tr>\n",
       "      <th>V26</th>\n",
       "      <td>284807.0</td>\n",
       "      <td>-5.615254e-13</td>\n",
       "      <td>0.482227</td>\n",
       "      <td>-2.604551</td>\n",
       "      <td>-0.326984</td>\n",
       "      <td>-0.052139</td>\n",
       "      <td>0.240952</td>\n",
       "      <td>3.517346</td>\n",
       "    </tr>\n",
       "    <tr>\n",
       "      <th>V27</th>\n",
       "      <td>284807.0</td>\n",
       "      <td>3.332111e-12</td>\n",
       "      <td>0.403632</td>\n",
       "      <td>-22.565679</td>\n",
       "      <td>-0.070840</td>\n",
       "      <td>0.001342</td>\n",
       "      <td>0.091045</td>\n",
       "      <td>31.612198</td>\n",
       "    </tr>\n",
       "    <tr>\n",
       "      <th>V28</th>\n",
       "      <td>284807.0</td>\n",
       "      <td>-3.518885e-12</td>\n",
       "      <td>0.330083</td>\n",
       "      <td>-15.430084</td>\n",
       "      <td>-0.052960</td>\n",
       "      <td>0.011244</td>\n",
       "      <td>0.078280</td>\n",
       "      <td>33.847808</td>\n",
       "    </tr>\n",
       "    <tr>\n",
       "      <th>Amount</th>\n",
       "      <td>284807.0</td>\n",
       "      <td>8.834962e+01</td>\n",
       "      <td>250.120109</td>\n",
       "      <td>0.000000</td>\n",
       "      <td>5.600000</td>\n",
       "      <td>22.000000</td>\n",
       "      <td>77.165000</td>\n",
       "      <td>25691.160000</td>\n",
       "    </tr>\n",
       "    <tr>\n",
       "      <th>Class</th>\n",
       "      <td>284807.0</td>\n",
       "      <td>1.727486e-03</td>\n",
       "      <td>0.041527</td>\n",
       "      <td>0.000000</td>\n",
       "      <td>0.000000</td>\n",
       "      <td>0.000000</td>\n",
       "      <td>0.000000</td>\n",
       "      <td>1.000000</td>\n",
       "    </tr>\n",
       "  </tbody>\n",
       "</table>\n",
       "</div>"
      ],
      "text/plain": [
       "           count          mean           std         min           25%  \\\n",
       "Time    284807.0  9.481386e+04  47488.145955    0.000000  54201.500000   \n",
       "V1      284807.0  1.758702e-12      1.958696  -56.407510     -0.920373   \n",
       "V2      284807.0 -8.252296e-13      1.651309  -72.715728     -0.598550   \n",
       "V3      284807.0 -9.637438e-13      1.516255  -48.325589     -0.890365   \n",
       "V4      284807.0  8.316234e-13      1.415869   -5.683171     -0.848640   \n",
       "V5      284807.0  1.592013e-13      1.380247 -113.743307     -0.691597   \n",
       "V6      284807.0  4.247308e-13      1.332271  -26.160506     -0.768296   \n",
       "V7      284807.0 -3.050183e-13      1.237094  -43.557242     -0.554076   \n",
       "V8      284807.0  8.692882e-14      1.194353  -73.216718     -0.208630   \n",
       "V9      284807.0 -1.179710e-12      1.098632  -13.434066     -0.643098   \n",
       "V10     284807.0  7.094921e-13      1.088850  -24.588262     -0.535426   \n",
       "V11     284807.0  1.875022e-12      1.020713   -4.797473     -0.762494   \n",
       "V12     284807.0  1.053507e-12      0.999201  -18.683715     -0.405571   \n",
       "V13     284807.0  7.137575e-13      0.995274   -5.791881     -0.648539   \n",
       "V14     284807.0 -1.491369e-13      0.958596  -19.214325     -0.425574   \n",
       "V15     284807.0 -5.225946e-13      0.915316   -4.498945     -0.582884   \n",
       "V16     284807.0 -2.280687e-13      0.876253  -14.129855     -0.468037   \n",
       "V17     284807.0 -6.428451e-13      0.849337  -25.162799     -0.483748   \n",
       "V18     284807.0  4.958999e-13      0.838176   -9.498746     -0.498850   \n",
       "V19     284807.0  7.060690e-13      0.814041   -7.213527     -0.456299   \n",
       "V20     284807.0  1.766044e-12      0.770925  -54.497720     -0.211721   \n",
       "V21     284807.0 -3.406538e-13      0.734524  -34.830382     -0.228395   \n",
       "V22     284807.0 -5.713357e-13      0.725702  -10.933144     -0.542350   \n",
       "V23     284807.0 -9.725290e-13      0.624460  -44.807735     -0.161846   \n",
       "V24     284807.0  1.464144e-12      0.605647   -2.836627     -0.354586   \n",
       "V25     284807.0 -6.989090e-13      0.521278  -10.295397     -0.317145   \n",
       "V26     284807.0 -5.615254e-13      0.482227   -2.604551     -0.326984   \n",
       "V27     284807.0  3.332111e-12      0.403632  -22.565679     -0.070840   \n",
       "V28     284807.0 -3.518885e-12      0.330083  -15.430084     -0.052960   \n",
       "Amount  284807.0  8.834962e+01    250.120109    0.000000      5.600000   \n",
       "Class   284807.0  1.727486e-03      0.041527    0.000000      0.000000   \n",
       "\n",
       "                 50%            75%            max  \n",
       "Time    84692.000000  139320.500000  172792.000000  \n",
       "V1          0.018109       1.315642       2.454930  \n",
       "V2          0.065486       0.803724      22.057729  \n",
       "V3          0.179846       1.027196       9.382558  \n",
       "V4         -0.019847       0.743341      16.875344  \n",
       "V5         -0.054336       0.611926      34.801666  \n",
       "V6         -0.274187       0.398565      73.301626  \n",
       "V7          0.040103       0.570436     120.589494  \n",
       "V8          0.022358       0.327346      20.007208  \n",
       "V9         -0.051429       0.597139      15.594995  \n",
       "V10        -0.092917       0.453923      23.745136  \n",
       "V11        -0.032757       0.739593      12.018913  \n",
       "V12         0.140033       0.618238       7.848392  \n",
       "V13        -0.013568       0.662505       7.126883  \n",
       "V14         0.050601       0.493150      10.526766  \n",
       "V15         0.048072       0.648821       8.877742  \n",
       "V16         0.066413       0.523296      17.315112  \n",
       "V17        -0.065676       0.399675       9.253526  \n",
       "V18        -0.003636       0.500807       5.041069  \n",
       "V19         0.003735       0.458949       5.591971  \n",
       "V20        -0.062481       0.133041      39.420904  \n",
       "V21        -0.029450       0.186377      27.202839  \n",
       "V22         0.006782       0.528554      10.503090  \n",
       "V23        -0.011193       0.147642      22.528412  \n",
       "V24         0.040976       0.439527       4.584549  \n",
       "V25         0.016594       0.350716       7.519589  \n",
       "V26        -0.052139       0.240952       3.517346  \n",
       "V27         0.001342       0.091045      31.612198  \n",
       "V28         0.011244       0.078280      33.847808  \n",
       "Amount     22.000000      77.165000   25691.160000  \n",
       "Class       0.000000       0.000000       1.000000  "
      ]
     },
     "execution_count": 8,
     "metadata": {},
     "output_type": "execute_result"
    }
   ],
   "source": [
    "#It gives inforamtion about min,max,std in dataset\n",
    "df.describe().T"
   ]
  },
  {
   "cell_type": "code",
   "execution_count": 9,
   "id": "ad794f86",
   "metadata": {},
   "outputs": [],
   "source": [
    "#Split the data into features (X) and the target variable (y)\n",
    "X = df.drop(\"Class\", axis=1)"
   ]
  },
  {
   "cell_type": "code",
   "execution_count": 10,
   "id": "0ab32ee5",
   "metadata": {},
   "outputs": [],
   "source": [
    "y = df[\"Class\"]"
   ]
  },
  {
   "cell_type": "code",
   "execution_count": 11,
   "id": "435e0a16",
   "metadata": {},
   "outputs": [],
   "source": [
    "#Split the data into training and testing sets\n",
    "X_train, X_test, y_train, y_test = train_test_split(X, y, test_size=0.33, random_state=42)"
   ]
  },
  {
   "cell_type": "code",
   "execution_count": 12,
   "id": "1f1a30d5",
   "metadata": {},
   "outputs": [
    {
     "data": {
      "text/plain": [
       "(190820, 30)"
      ]
     },
     "execution_count": 12,
     "metadata": {},
     "output_type": "execute_result"
    }
   ],
   "source": [
    "X_train.shape"
   ]
  },
  {
   "cell_type": "code",
   "execution_count": 13,
   "id": "fd706c85",
   "metadata": {},
   "outputs": [
    {
     "data": {
      "text/plain": [
       "(93987, 30)"
      ]
     },
     "execution_count": 13,
     "metadata": {},
     "output_type": "execute_result"
    }
   ],
   "source": [
    "X_test.shape"
   ]
  },
  {
   "cell_type": "code",
   "execution_count": 14,
   "id": "686527c0",
   "metadata": {},
   "outputs": [
    {
     "data": {
      "text/plain": [
       "(190820,)"
      ]
     },
     "execution_count": 14,
     "metadata": {},
     "output_type": "execute_result"
    }
   ],
   "source": [
    "y_train.shape"
   ]
  },
  {
   "cell_type": "code",
   "execution_count": 15,
   "id": "b94d755c",
   "metadata": {},
   "outputs": [
    {
     "data": {
      "text/plain": [
       "(93987,)"
      ]
     },
     "execution_count": 15,
     "metadata": {},
     "output_type": "execute_result"
    }
   ],
   "source": [
    "y_test.shape"
   ]
  },
  {
   "cell_type": "markdown",
   "id": "6e07e225",
   "metadata": {},
   "source": [
    "# 1.LogisticRegression"
   ]
  },
  {
   "cell_type": "code",
   "execution_count": 16,
   "id": "e564f7a9",
   "metadata": {},
   "outputs": [],
   "source": [
    "# Create and train the model\n",
    "lr = LogisticRegression()"
   ]
  },
  {
   "cell_type": "code",
   "execution_count": 17,
   "id": "8ba6b264",
   "metadata": {},
   "outputs": [
    {
     "data": {
      "text/plain": [
       "LogisticRegression()"
      ]
     },
     "execution_count": 17,
     "metadata": {},
     "output_type": "execute_result"
    }
   ],
   "source": [
    "#Train the model on the training\n",
    "lr.fit(X_train, y_train)"
   ]
  },
  {
   "cell_type": "code",
   "execution_count": 18,
   "id": "db102190",
   "metadata": {},
   "outputs": [
    {
     "data": {
      "text/plain": [
       "0.9989041037590305"
      ]
     },
     "execution_count": 18,
     "metadata": {},
     "output_type": "execute_result"
    }
   ],
   "source": [
    "#accuracy on the test data\n",
    "accuracy = lr.score(X_test, y_test)\n",
    "accuracy"
   ]
  },
  {
   "cell_type": "code",
   "execution_count": 19,
   "id": "ab7c93a9",
   "metadata": {},
   "outputs": [
    {
     "data": {
      "text/plain": [
       "array([1, 0, 0, ..., 0, 0, 0], dtype=int64)"
      ]
     },
     "execution_count": 19,
     "metadata": {},
     "output_type": "execute_result"
    }
   ],
   "source": [
    "#Predict the labels for the test set\n",
    "y_pred = lr.predict(X_test)\n",
    "y_pred"
   ]
  },
  {
   "cell_type": "code",
   "execution_count": 20,
   "id": "af5cada3",
   "metadata": {},
   "outputs": [
    {
     "data": {
      "text/plain": [
       "0.9989041037590305"
      ]
     },
     "execution_count": 20,
     "metadata": {},
     "output_type": "execute_result"
    }
   ],
   "source": [
    "accuracy_score(y_test,y_pred)"
   ]
  },
  {
   "cell_type": "code",
   "execution_count": 21,
   "id": "74a14f01",
   "metadata": {},
   "outputs": [],
   "source": [
    "from sklearn.metrics import classification_report"
   ]
  },
  {
   "cell_type": "code",
   "execution_count": 22,
   "id": "1959638a",
   "metadata": {},
   "outputs": [
    {
     "name": "stdout",
     "output_type": "stream",
     "text": [
      "              precision    recall  f1-score   support\n",
      "\n",
      "           0       1.00      1.00      1.00     93838\n",
      "           1       0.67      0.62      0.64       149\n",
      "\n",
      "    accuracy                           1.00     93987\n",
      "   macro avg       0.83      0.81      0.82     93987\n",
      "weighted avg       1.00      1.00      1.00     93987\n",
      "\n"
     ]
    }
   ],
   "source": [
    "cr=(classification_report(y_test,y_pred))\n",
    "print(cr)"
   ]
  },
  {
   "cell_type": "markdown",
   "id": "d4a1800f",
   "metadata": {},
   "source": [
    "# 2. DecisionTreeClassifier"
   ]
  },
  {
   "cell_type": "code",
   "execution_count": 23,
   "id": "f68fb3c5",
   "metadata": {},
   "outputs": [],
   "source": [
    "from sklearn.tree import DecisionTreeClassifier\n"
   ]
  },
  {
   "cell_type": "code",
   "execution_count": 24,
   "id": "00a07ad8",
   "metadata": {},
   "outputs": [],
   "source": [
    "# Create and train the model\n",
    "decision_tree = DecisionTreeClassifier()"
   ]
  },
  {
   "cell_type": "code",
   "execution_count": 25,
   "id": "5691fcaf",
   "metadata": {},
   "outputs": [
    {
     "data": {
      "text/plain": [
       "DecisionTreeClassifier()"
      ]
     },
     "execution_count": 25,
     "metadata": {},
     "output_type": "execute_result"
    }
   ],
   "source": [
    "#Train the model on the training\n",
    "decision_tree.fit(X_train, y_train)"
   ]
  },
  {
   "cell_type": "code",
   "execution_count": 26,
   "id": "ee9f68a3",
   "metadata": {},
   "outputs": [
    {
     "data": {
      "text/plain": [
       "0.9991700979922755"
      ]
     },
     "execution_count": 26,
     "metadata": {},
     "output_type": "execute_result"
    }
   ],
   "source": [
    "#accuracy on the test data\n",
    "accuracy = decision_tree.score(X_test, y_test)\n",
    "accuracy"
   ]
  },
  {
   "cell_type": "code",
   "execution_count": 27,
   "id": "eef8c177",
   "metadata": {},
   "outputs": [
    {
     "data": {
      "text/plain": [
       "array([1, 0, 0, ..., 0, 0, 0], dtype=int64)"
      ]
     },
     "execution_count": 27,
     "metadata": {},
     "output_type": "execute_result"
    }
   ],
   "source": [
    "#Predict the labels for the test set\n",
    "y_pred1 = decision_tree.predict(X_test)\n",
    "y_pred1"
   ]
  },
  {
   "cell_type": "code",
   "execution_count": 28,
   "id": "ad0f9748",
   "metadata": {},
   "outputs": [
    {
     "data": {
      "text/plain": [
       "0.9991700979922755"
      ]
     },
     "execution_count": 28,
     "metadata": {},
     "output_type": "execute_result"
    }
   ],
   "source": [
    "accuracy_score(y_test,y_pred1)"
   ]
  },
  {
   "cell_type": "code",
   "execution_count": 29,
   "id": "264628dc",
   "metadata": {},
   "outputs": [],
   "source": [
    "from sklearn.metrics import classification_report"
   ]
  },
  {
   "cell_type": "code",
   "execution_count": 30,
   "id": "e7ca0106",
   "metadata": {},
   "outputs": [
    {
     "name": "stdout",
     "output_type": "stream",
     "text": [
      "              precision    recall  f1-score   support\n",
      "\n",
      "           0       1.00      1.00      1.00     93838\n",
      "           1       0.71      0.81      0.75       149\n",
      "\n",
      "    accuracy                           1.00     93987\n",
      "   macro avg       0.85      0.90      0.88     93987\n",
      "weighted avg       1.00      1.00      1.00     93987\n",
      "\n"
     ]
    }
   ],
   "source": [
    "cr=(classification_report(y_test,y_pred1))\n",
    "print(cr)"
   ]
  },
  {
   "cell_type": "code",
   "execution_count": 31,
   "id": "a578115a",
   "metadata": {},
   "outputs": [],
   "source": [
    "import matplotlib.pyplot as plt"
   ]
  },
  {
   "cell_type": "code",
   "execution_count": 32,
   "id": "1d2e3ddd",
   "metadata": {},
   "outputs": [],
   "source": [
    "from sklearn import tree"
   ]
  },
  {
   "cell_type": "code",
   "execution_count": 33,
   "id": "b35e26eb",
   "metadata": {},
   "outputs": [
    {
     "data": {
      "text/plain": [
       "[Text(0.25645950988892535, 0.9791666666666666, 'X[17] <= -2.865\\ngini = 0.004\\nsamples = 190820\\nvalue = [190477, 343]'),\n",
       " Text(0.17157051131836715, 0.9375, 'X[7] <= 0.567\\ngini = 0.336\\nsamples = 290\\nvalue = [62, 228]'),\n",
       " Text(0.11278061583165394, 0.8958333333333334, 'X[26] <= -0.264\\ngini = 0.274\\nsamples = 269\\nvalue = [44, 225]'),\n",
       " Text(0.05279092655949759, 0.8541666666666666, 'X[26] <= -0.337\\ngini = 0.478\\nsamples = 71\\nvalue = [28, 43]'),\n",
       " Text(0.028795050850635048, 0.8125, 'X[3] <= 0.022\\ngini = 0.142\\nsamples = 39\\nvalue = [3, 36]'),\n",
       " Text(0.019196700567090032, 0.7708333333333334, 'X[4] <= -0.903\\ngini = 0.053\\nsamples = 37\\nvalue = [1, 36]'),\n",
       " Text(0.009598350283545016, 0.7291666666666666, 'gini = 0.0\\nsamples = 1\\nvalue = [1, 0]'),\n",
       " Text(0.028795050850635048, 0.7291666666666666, 'gini = 0.0\\nsamples = 36\\nvalue = [0, 36]'),\n",
       " Text(0.038393401134180064, 0.7708333333333334, 'gini = 0.0\\nsamples = 2\\nvalue = [2, 0]'),\n",
       " Text(0.07678680226836013, 0.8125, 'X[6] <= -1.89\\ngini = 0.342\\nsamples = 32\\nvalue = [25, 7]'),\n",
       " Text(0.057590101701270095, 0.7708333333333334, 'X[3] <= -18.857\\ngini = 0.08\\nsamples = 24\\nvalue = [23, 1]'),\n",
       " Text(0.047991751417725076, 0.7291666666666666, 'gini = 0.0\\nsamples = 1\\nvalue = [0, 1]'),\n",
       " Text(0.06718845198481511, 0.7291666666666666, 'gini = 0.0\\nsamples = 23\\nvalue = [23, 0]'),\n",
       " Text(0.09598350283545015, 0.7708333333333334, 'X[26] <= -0.324\\ngini = 0.375\\nsamples = 8\\nvalue = [2, 6]'),\n",
       " Text(0.08638515255190514, 0.7291666666666666, 'gini = 0.0\\nsamples = 2\\nvalue = [2, 0]'),\n",
       " Text(0.10558185311899518, 0.7291666666666666, 'gini = 0.0\\nsamples = 6\\nvalue = [0, 6]'),\n",
       " Text(0.17277030510381028, 0.8541666666666666, 'X[14] <= -2.637\\ngini = 0.149\\nsamples = 198\\nvalue = [16, 182]'),\n",
       " Text(0.15357360453672025, 0.8125, 'X[3] <= -31.459\\ngini = 0.108\\nsamples = 192\\nvalue = [11, 181]'),\n",
       " Text(0.14397525425317523, 0.7708333333333334, 'gini = 0.0\\nsamples = 3\\nvalue = [3, 0]'),\n",
       " Text(0.16317195482026528, 0.7708333333333334, 'X[4] <= 2.02\\ngini = 0.081\\nsamples = 189\\nvalue = [8, 181]'),\n",
       " Text(0.1247785536860852, 0.7291666666666666, 'X[20] <= 0.538\\ngini = 0.32\\nsamples = 25\\nvalue = [5, 20]'),\n",
       " Text(0.10558185311899518, 0.6875, 'X[15] <= 1.997\\ngini = 0.1\\nsamples = 19\\nvalue = [1, 18]'),\n",
       " Text(0.09598350283545015, 0.6458333333333334, 'gini = 0.0\\nsamples = 18\\nvalue = [0, 18]'),\n",
       " Text(0.11518020340254019, 0.6458333333333334, 'gini = 0.0\\nsamples = 1\\nvalue = [1, 0]'),\n",
       " Text(0.14397525425317523, 0.6875, 'X[13] <= -1.1\\ngini = 0.444\\nsamples = 6\\nvalue = [4, 2]'),\n",
       " Text(0.13437690396963023, 0.6458333333333334, 'gini = 0.0\\nsamples = 2\\nvalue = [0, 2]'),\n",
       " Text(0.15357360453672025, 0.6458333333333334, 'gini = 0.0\\nsamples = 4\\nvalue = [4, 0]'),\n",
       " Text(0.20156535595444533, 0.7291666666666666, 'X[28] <= 0.945\\ngini = 0.036\\nsamples = 164\\nvalue = [3, 161]'),\n",
       " Text(0.1823686553873553, 0.6875, 'X[13] <= -1.626\\ngini = 0.013\\nsamples = 155\\nvalue = [1, 154]'),\n",
       " Text(0.17277030510381028, 0.6458333333333334, 'X[0] <= 35609.0\\ngini = 0.198\\nsamples = 9\\nvalue = [1, 8]'),\n",
       " Text(0.16317195482026528, 0.6041666666666666, 'gini = 0.0\\nsamples = 1\\nvalue = [1, 0]'),\n",
       " Text(0.1823686553873553, 0.6041666666666666, 'gini = 0.0\\nsamples = 8\\nvalue = [0, 8]'),\n",
       " Text(0.1919670056709003, 0.6458333333333334, 'gini = 0.0\\nsamples = 146\\nvalue = [0, 146]'),\n",
       " Text(0.22076205652153535, 0.6875, 'X[21] <= 1.52\\ngini = 0.346\\nsamples = 9\\nvalue = [2, 7]'),\n",
       " Text(0.21116370623799036, 0.6458333333333334, 'gini = 0.0\\nsamples = 2\\nvalue = [2, 0]'),\n",
       " Text(0.23036040680508038, 0.6458333333333334, 'gini = 0.0\\nsamples = 7\\nvalue = [0, 7]'),\n",
       " Text(0.1919670056709003, 0.8125, 'X[1] <= -17.517\\ngini = 0.278\\nsamples = 6\\nvalue = [5, 1]'),\n",
       " Text(0.1823686553873553, 0.7708333333333334, 'gini = 0.0\\nsamples = 1\\nvalue = [0, 1]'),\n",
       " Text(0.20156535595444533, 0.7708333333333334, 'gini = 0.0\\nsamples = 5\\nvalue = [5, 0]'),\n",
       " Text(0.23036040680508038, 0.8958333333333334, 'X[3] <= -2.736\\ngini = 0.245\\nsamples = 21\\nvalue = [18, 3]'),\n",
       " Text(0.22076205652153535, 0.8541666666666666, 'X[17] <= -5.556\\ngini = 0.48\\nsamples = 5\\nvalue = [2, 3]'),\n",
       " Text(0.21116370623799036, 0.8125, 'gini = 0.0\\nsamples = 2\\nvalue = [2, 0]'),\n",
       " Text(0.23036040680508038, 0.8125, 'gini = 0.0\\nsamples = 3\\nvalue = [0, 3]'),\n",
       " Text(0.23995875708862538, 0.8541666666666666, 'gini = 0.0\\nsamples = 16\\nvalue = [16, 0]'),\n",
       " Text(0.3413485084594835, 0.9375, 'X[14] <= -8.098\\ngini = 0.001\\nsamples = 190530\\nvalue = [190415, 115]'),\n",
       " Text(0.26875380793926046, 0.8958333333333334, 'X[28] <= -0.547\\ngini = 0.175\\nsamples = 31\\nvalue = [3, 28]'),\n",
       " Text(0.2591554576557154, 0.8541666666666666, 'gini = 0.0\\nsamples = 3\\nvalue = [3, 0]'),\n",
       " Text(0.27835215822280546, 0.8541666666666666, 'gini = 0.0\\nsamples = 28\\nvalue = [0, 28]'),\n",
       " Text(0.4139432089797066, 0.8958333333333334, 'X[14] <= -4.661\\ngini = 0.001\\nsamples = 190499\\nvalue = [190412, 87]'),\n",
       " Text(0.2975488587898955, 0.8541666666666666, 'X[10] <= -1.847\\ngini = 0.263\\nsamples = 167\\nvalue = [141, 26]'),\n",
       " Text(0.27355298308103293, 0.8125, 'X[16] <= 2.872\\ngini = 0.451\\nsamples = 35\\nvalue = [12, 23]'),\n",
       " Text(0.26395463279748793, 0.7708333333333334, 'X[24] <= -1.691\\ngini = 0.204\\nsamples = 26\\nvalue = [3, 23]'),\n",
       " Text(0.25435628251394293, 0.7291666666666666, 'gini = 0.0\\nsamples = 2\\nvalue = [2, 0]'),\n",
       " Text(0.27355298308103293, 0.7291666666666666, 'X[6] <= 2.544\\ngini = 0.08\\nsamples = 24\\nvalue = [1, 23]'),\n",
       " Text(0.26395463279748793, 0.6875, 'gini = 0.0\\nsamples = 23\\nvalue = [0, 23]'),\n",
       " Text(0.283151333364578, 0.6875, 'gini = 0.0\\nsamples = 1\\nvalue = [1, 0]'),\n",
       " Text(0.283151333364578, 0.7708333333333334, 'gini = 0.0\\nsamples = 9\\nvalue = [9, 0]'),\n",
       " Text(0.32154473449875803, 0.8125, 'X[21] <= -0.046\\ngini = 0.044\\nsamples = 132\\nvalue = [129, 3]'),\n",
       " Text(0.302348033931668, 0.7708333333333334, 'X[19] <= 1.44\\ngini = 0.016\\nsamples = 128\\nvalue = [127, 1]'),\n",
       " Text(0.292749683648123, 0.7291666666666666, 'gini = 0.0\\nsamples = 125\\nvalue = [125, 0]'),\n",
       " Text(0.31194638421521304, 0.7291666666666666, 'X[8] <= -2.019\\ngini = 0.444\\nsamples = 3\\nvalue = [2, 1]'),\n",
       " Text(0.302348033931668, 0.6875, 'gini = 0.0\\nsamples = 2\\nvalue = [2, 0]'),\n",
       " Text(0.32154473449875803, 0.6875, 'gini = 0.0\\nsamples = 1\\nvalue = [0, 1]'),\n",
       " Text(0.34074143506584803, 0.7708333333333334, 'X[7] <= 1.622\\ngini = 0.5\\nsamples = 4\\nvalue = [2, 2]'),\n",
       " Text(0.33114308478230303, 0.7291666666666666, 'gini = 0.0\\nsamples = 2\\nvalue = [0, 2]'),\n",
       " Text(0.3503397853493931, 0.7291666666666666, 'gini = 0.0\\nsamples = 2\\nvalue = [2, 0]'),\n",
       " Text(0.5303375591695177, 0.8541666666666666, 'X[12] <= -5.437\\ngini = 0.001\\nsamples = 190332\\nvalue = [190271, 61]'),\n",
       " Text(0.5207392088859727, 0.8125, 'gini = 0.0\\nsamples = 1\\nvalue = [0, 1]'),\n",
       " Text(0.5399359094530628, 0.8125, 'X[17] <= -2.789\\ngini = 0.001\\nsamples = 190331\\nvalue = [190271, 60]'),\n",
       " Text(0.5303375591695177, 0.7708333333333334, 'gini = 0.0\\nsamples = 1\\nvalue = [0, 1]'),\n",
       " Text(0.5495342597366077, 0.7708333333333334, 'X[14] <= -4.25\\ngini = 0.001\\nsamples = 190330\\nvalue = [190271, 59]'),\n",
       " Text(0.3695364859164831, 0.7291666666666666, 'X[7] <= 0.236\\ngini = 0.068\\nsamples = 85\\nvalue = [82, 3]'),\n",
       " Text(0.3599381356329381, 0.6875, 'X[20] <= 0.032\\ngini = 0.5\\nsamples = 6\\nvalue = [3, 3]'),\n",
       " Text(0.3503397853493931, 0.6458333333333334, 'gini = 0.0\\nsamples = 3\\nvalue = [0, 3]'),\n",
       " Text(0.3695364859164831, 0.6458333333333334, 'gini = 0.0\\nsamples = 3\\nvalue = [3, 0]'),\n",
       " Text(0.37913483620002814, 0.6875, 'gini = 0.0\\nsamples = 79\\nvalue = [79, 0]'),\n",
       " Text(0.7295320335567325, 0.7291666666666666, 'X[4] <= 4.821\\ngini = 0.001\\nsamples = 190245\\nvalue = [190189, 56]'),\n",
       " Text(0.50705581853119, 0.6875, 'X[23] <= -15.374\\ngini = 0.001\\nsamples = 189735\\nvalue = [189684, 51]'),\n",
       " Text(0.38873318648357313, 0.6458333333333334, 'X[14] <= 2.806\\ngini = 0.124\\nsamples = 15\\nvalue = [14, 1]'),\n",
       " Text(0.37913483620002814, 0.6041666666666666, 'gini = 0.0\\nsamples = 14\\nvalue = [14, 0]'),\n",
       " Text(0.39833153676711813, 0.6041666666666666, 'gini = 0.0\\nsamples = 1\\nvalue = [0, 1]'),\n",
       " Text(0.6253784505788068, 0.6458333333333334, 'X[17] <= 1.68\\ngini = 0.001\\nsamples = 189720\\nvalue = [189670, 50]'),\n",
       " Text(0.4175282373342082, 0.6041666666666666, 'X[26] <= 2.744\\ngini = 0.0\\nsamples = 185181\\nvalue = [185145, 36]'),\n",
       " Text(0.2945400009373389, 0.5625, 'X[14] <= -1.635\\ngini = 0.0\\nsamples = 185153\\nvalue = [185118, 35]'),\n",
       " Text(0.07735857899423537, 0.5208333333333334, 'X[14] <= -1.635\\ngini = 0.004\\nsamples = 4290\\nvalue = [4282, 8]'),\n",
       " Text(0.06776022871069035, 0.4791666666666667, 'X[0] <= 503.0\\ngini = 0.003\\nsamples = 4289\\nvalue = [4282, 7]'),\n",
       " Text(0.0389651778600553, 0.4375, 'X[18] <= 1.561\\ngini = 0.153\\nsamples = 12\\nvalue = [11, 1]'),\n",
       " Text(0.02936682757651029, 0.3958333333333333, 'gini = 0.0\\nsamples = 11\\nvalue = [11, 0]'),\n",
       " Text(0.04856352814360032, 0.3958333333333333, 'gini = 0.0\\nsamples = 1\\nvalue = [0, 1]'),\n",
       " Text(0.0965552795613254, 0.4375, 'X[4] <= 3.157\\ngini = 0.003\\nsamples = 4277\\nvalue = [4271, 6]'),\n",
       " Text(0.06776022871069035, 0.3958333333333333, 'X[0] <= 170332.0\\ngini = 0.001\\nsamples = 4118\\nvalue = [4115, 3]'),\n",
       " Text(0.04856352814360032, 0.3541666666666667, 'X[13] <= 1.118\\ngini = 0.001\\nsamples = 4049\\nvalue = [4047, 2]'),\n",
       " Text(0.0389651778600553, 0.3125, 'gini = 0.0\\nsamples = 3559\\nvalue = [3559, 0]'),\n",
       " Text(0.05816187842714533, 0.3125, 'X[13] <= 1.118\\ngini = 0.008\\nsamples = 490\\nvalue = [488, 2]'),\n",
       " Text(0.04856352814360032, 0.2708333333333333, 'gini = 0.0\\nsamples = 1\\nvalue = [0, 1]'),\n",
       " Text(0.06776022871069035, 0.2708333333333333, 'X[3] <= -1.955\\ngini = 0.004\\nsamples = 489\\nvalue = [488, 1]'),\n",
       " Text(0.05816187842714533, 0.22916666666666666, 'X[3] <= -1.994\\ngini = 0.041\\nsamples = 48\\nvalue = [47, 1]'),\n",
       " Text(0.04856352814360032, 0.1875, 'gini = 0.0\\nsamples = 47\\nvalue = [47, 0]'),\n",
       " Text(0.06776022871069035, 0.1875, 'gini = 0.0\\nsamples = 1\\nvalue = [0, 1]'),\n",
       " Text(0.07735857899423537, 0.22916666666666666, 'gini = 0.0\\nsamples = 441\\nvalue = [441, 0]'),\n",
       " Text(0.08695692927778038, 0.3541666666666667, 'X[0] <= 170403.5\\ngini = 0.029\\nsamples = 69\\nvalue = [68, 1]'),\n",
       " Text(0.07735857899423537, 0.3125, 'gini = 0.0\\nsamples = 1\\nvalue = [0, 1]'),\n",
       " Text(0.0965552795613254, 0.3125, 'gini = 0.0\\nsamples = 68\\nvalue = [68, 0]'),\n",
       " Text(0.12535033041196045, 0.3958333333333333, 'X[4] <= 3.163\\ngini = 0.037\\nsamples = 159\\nvalue = [156, 3]'),\n",
       " Text(0.11575198012841544, 0.3541666666666667, 'gini = 0.0\\nsamples = 1\\nvalue = [0, 1]'),\n",
       " Text(0.13494868069550545, 0.3541666666666667, 'X[15] <= -1.949\\ngini = 0.025\\nsamples = 158\\nvalue = [156, 2]'),\n",
       " Text(0.11575198012841544, 0.3125, 'X[11] <= -0.301\\ngini = 0.375\\nsamples = 4\\nvalue = [3, 1]'),\n",
       " Text(0.10615362984487041, 0.2708333333333333, 'gini = 0.0\\nsamples = 3\\nvalue = [3, 0]'),\n",
       " Text(0.12535033041196045, 0.2708333333333333, 'gini = 0.0\\nsamples = 1\\nvalue = [0, 1]'),\n",
       " Text(0.1541453812625955, 0.3125, 'X[18] <= 1.918\\ngini = 0.013\\nsamples = 154\\nvalue = [153, 1]'),\n",
       " Text(0.14454703097905047, 0.2708333333333333, 'gini = 0.0\\nsamples = 146\\nvalue = [146, 0]'),\n",
       " Text(0.1637437315461405, 0.2708333333333333, 'X[18] <= 1.924\\ngini = 0.219\\nsamples = 8\\nvalue = [7, 1]'),\n",
       " Text(0.1541453812625955, 0.22916666666666666, 'gini = 0.0\\nsamples = 1\\nvalue = [0, 1]'),\n",
       " Text(0.17334208182968552, 0.22916666666666666, 'gini = 0.0\\nsamples = 7\\nvalue = [7, 0]'),\n",
       " Text(0.08695692927778038, 0.4791666666666667, 'gini = 0.0\\nsamples = 1\\nvalue = [0, 1]'),\n",
       " Text(0.5117214228804424, 0.5208333333333334, 'X[7] <= 2.88\\ngini = 0.0\\nsamples = 180863\\nvalue = [180836, 27]'),\n",
       " Text(0.3593851056849604, 0.4791666666666667, 'X[19] <= -1.489\\ngini = 0.0\\nsamples = 179506\\nvalue = [179483, 23]'),\n",
       " Text(0.2573276468107044, 0.4375, 'X[19] <= -1.489\\ngini = 0.003\\nsamples = 6278\\nvalue = [6270, 8]'),\n",
       " Text(0.2477292965271594, 0.3958333333333333, 'X[12] <= -2.777\\ngini = 0.002\\nsamples = 6277\\nvalue = [6270, 7]'),\n",
       " Text(0.2213338332474106, 0.3541666666666667, 'X[12] <= -2.781\\ngini = 0.022\\nsamples = 183\\nvalue = [181, 2]'),\n",
       " Text(0.21173548296386557, 0.3125, 'X[19] <= -2.546\\ngini = 0.011\\nsamples = 182\\nvalue = [181, 1]'),\n",
       " Text(0.20213713268032057, 0.2708333333333333, 'X[19] <= -2.59\\ngini = 0.1\\nsamples = 19\\nvalue = [18, 1]'),\n",
       " Text(0.19253878239677555, 0.22916666666666666, 'gini = 0.0\\nsamples = 18\\nvalue = [18, 0]'),\n",
       " Text(0.21173548296386557, 0.22916666666666666, 'gini = 0.0\\nsamples = 1\\nvalue = [0, 1]'),\n",
       " Text(0.2213338332474106, 0.2708333333333333, 'gini = 0.0\\nsamples = 163\\nvalue = [163, 0]'),\n",
       " Text(0.23093218353095563, 0.3125, 'gini = 0.0\\nsamples = 1\\nvalue = [0, 1]'),\n",
       " Text(0.2741247598069082, 0.3541666666666667, 'X[15] <= -2.717\\ngini = 0.002\\nsamples = 6094\\nvalue = [6089, 5]'),\n",
       " Text(0.2501288840980456, 0.3125, 'X[15] <= -2.721\\ngini = 0.033\\nsamples = 59\\nvalue = [58, 1]'),\n",
       " Text(0.24053053381450062, 0.2708333333333333, 'gini = 0.0\\nsamples = 58\\nvalue = [58, 0]'),\n",
       " Text(0.2597272343815907, 0.2708333333333333, 'gini = 0.0\\nsamples = 1\\nvalue = [0, 1]'),\n",
       " Text(0.2981206355157707, 0.3125, 'X[20] <= -1.462\\ngini = 0.001\\nsamples = 6035\\nvalue = [6031, 4]'),\n",
       " Text(0.2789239349486807, 0.2708333333333333, 'X[20] <= -1.466\\ngini = 0.028\\nsamples = 70\\nvalue = [69, 1]'),\n",
       " Text(0.2693255846651357, 0.22916666666666666, 'gini = 0.0\\nsamples = 69\\nvalue = [69, 0]'),\n",
       " Text(0.28852228523222573, 0.22916666666666666, 'gini = 0.0\\nsamples = 1\\nvalue = [0, 1]'),\n",
       " Text(0.3173173360828608, 0.2708333333333333, 'X[2] <= 1.176\\ngini = 0.001\\nsamples = 5965\\nvalue = [5962, 3]'),\n",
       " Text(0.3077189857993157, 0.22916666666666666, 'gini = 0.0\\nsamples = 5289\\nvalue = [5289, 0]'),\n",
       " Text(0.3269156863664058, 0.22916666666666666, 'X[1] <= 0.189\\ngini = 0.009\\nsamples = 676\\nvalue = [673, 3]'),\n",
       " Text(0.3077189857993157, 0.1875, 'X[14] <= -1.162\\ngini = 0.003\\nsamples = 673\\nvalue = [672, 1]'),\n",
       " Text(0.2981206355157707, 0.14583333333333334, 'X[14] <= -1.171\\ngini = 0.054\\nsamples = 36\\nvalue = [35, 1]'),\n",
       " Text(0.28852228523222573, 0.10416666666666667, 'gini = 0.0\\nsamples = 35\\nvalue = [35, 0]'),\n",
       " Text(0.3077189857993157, 0.10416666666666667, 'gini = 0.0\\nsamples = 1\\nvalue = [0, 1]'),\n",
       " Text(0.3173173360828608, 0.14583333333333334, 'gini = 0.0\\nsamples = 637\\nvalue = [637, 0]'),\n",
       " Text(0.34611238693349583, 0.1875, 'X[3] <= -0.505\\ngini = 0.444\\nsamples = 3\\nvalue = [1, 2]'),\n",
       " Text(0.3365140366499508, 0.14583333333333334, 'gini = 0.0\\nsamples = 1\\nvalue = [1, 0]'),\n",
       " Text(0.35571073721704083, 0.14583333333333334, 'gini = 0.0\\nsamples = 2\\nvalue = [0, 2]'),\n",
       " Text(0.2669259970942494, 0.3958333333333333, 'gini = 0.0\\nsamples = 1\\nvalue = [0, 1]'),\n",
       " Text(0.4614425645592164, 0.4375, 'X[20] <= -4.124\\ngini = 0.0\\nsamples = 173228\\nvalue = [173213, 15]'),\n",
       " Text(0.4181000140600834, 0.3958333333333333, 'X[20] <= -4.139\\ngini = 0.013\\nsamples = 153\\nvalue = [152, 1]'),\n",
       " Text(0.4085016637765384, 0.3541666666666667, 'gini = 0.0\\nsamples = 152\\nvalue = [152, 0]'),\n",
       " Text(0.42769836434362846, 0.3541666666666667, 'gini = 0.0\\nsamples = 1\\nvalue = [0, 1]'),\n",
       " Text(0.5047851150583493, 0.3958333333333333, 'X[14] <= -0.995\\ngini = 0.0\\nsamples = 173075\\nvalue = [173061, 14]'),\n",
       " Text(0.44689506491071845, 0.3541666666666667, 'X[14] <= -0.995\\ngini = 0.001\\nsamples = 11179\\nvalue = [11174, 5]'),\n",
       " Text(0.43729671462717346, 0.3125, 'X[11] <= 2.278\\ngini = 0.001\\nsamples = 11178\\nvalue = [11174, 4]'),\n",
       " Text(0.41330083891831093, 0.2708333333333333, 'X[16] <= 1.378\\ngini = 0.001\\nsamples = 11144\\nvalue = [11141, 3]'),\n",
       " Text(0.3941041383512209, 0.22916666666666666, 'X[22] <= -1.014\\ngini = 0.0\\nsamples = 10500\\nvalue = [10499, 1]'),\n",
       " Text(0.3845057880676759, 0.1875, 'X[22] <= -1.014\\ngini = 0.007\\nsamples = 273\\nvalue = [272, 1]'),\n",
       " Text(0.3749074377841308, 0.14583333333333334, 'gini = 0.0\\nsamples = 272\\nvalue = [272, 0]'),\n",
       " Text(0.3941041383512209, 0.14583333333333334, 'gini = 0.0\\nsamples = 1\\nvalue = [0, 1]'),\n",
       " Text(0.4037024886347659, 0.1875, 'gini = 0.0\\nsamples = 10227\\nvalue = [10227, 0]'),\n",
       " Text(0.43249753948540093, 0.22916666666666666, 'X[16] <= 1.378\\ngini = 0.006\\nsamples = 644\\nvalue = [642, 2]'),\n",
       " Text(0.42289918920185593, 0.1875, 'gini = 0.0\\nsamples = 1\\nvalue = [0, 1]'),\n",
       " Text(0.442095889768946, 0.1875, 'X[19] <= 1.189\\ngini = 0.003\\nsamples = 643\\nvalue = [642, 1]'),\n",
       " Text(0.43249753948540093, 0.14583333333333334, 'gini = 0.0\\nsamples = 604\\nvalue = [604, 0]'),\n",
       " Text(0.451694240052491, 0.14583333333333334, 'X[19] <= 1.192\\ngini = 0.05\\nsamples = 39\\nvalue = [38, 1]'),\n",
       " Text(0.442095889768946, 0.10416666666666667, 'gini = 0.0\\nsamples = 1\\nvalue = [0, 1]'),\n",
       " Text(0.461292590336036, 0.10416666666666667, 'gini = 0.0\\nsamples = 38\\nvalue = [38, 0]'),\n",
       " Text(0.461292590336036, 0.2708333333333333, 'X[11] <= 2.283\\ngini = 0.057\\nsamples = 34\\nvalue = [33, 1]'),\n",
       " Text(0.451694240052491, 0.22916666666666666, 'gini = 0.0\\nsamples = 1\\nvalue = [0, 1]'),\n",
       " Text(0.47089094061958103, 0.22916666666666666, 'gini = 0.0\\nsamples = 33\\nvalue = [33, 0]'),\n",
       " Text(0.4564934151942635, 0.3125, 'gini = 0.0\\nsamples = 1\\nvalue = [0, 1]'),\n",
       " Text(0.5626751652059803, 0.3541666666666667, 'X[21] <= -1.005\\ngini = 0.0\\nsamples = 161896\\nvalue = [161887, 9]'),\n",
       " Text(0.509284341753761, 0.3125, 'X[21] <= -1.005\\ngini = 0.002\\nsamples = 2337\\nvalue = [2335, 2]'),\n",
       " Text(0.4996859914702161, 0.2708333333333333, 'X[21] <= -1.033\\ngini = 0.001\\nsamples = 2336\\nvalue = [2335, 1]'),\n",
       " Text(0.49008764118667103, 0.22916666666666666, 'gini = 0.0\\nsamples = 2290\\nvalue = [2290, 0]'),\n",
       " Text(0.509284341753761, 0.22916666666666666, 'X[21] <= -1.032\\ngini = 0.043\\nsamples = 46\\nvalue = [45, 1]'),\n",
       " Text(0.4996859914702161, 0.1875, 'gini = 0.0\\nsamples = 1\\nvalue = [0, 1]'),\n",
       " Text(0.5188826920373061, 0.1875, 'gini = 0.0\\nsamples = 45\\nvalue = [45, 0]'),\n",
       " Text(0.5188826920373061, 0.2708333333333333, 'gini = 0.0\\nsamples = 1\\nvalue = [0, 1]'),\n",
       " Text(0.6160659886581994, 0.3125, 'X[23] <= 0.778\\ngini = 0.0\\nsamples = 159559\\nvalue = [159552, 7]'),\n",
       " Text(0.5884707315930074, 0.2708333333333333, 'X[26] <= 1.246\\ngini = 0.0\\nsamples = 156455\\nvalue = [156450, 5]'),\n",
       " Text(0.5620752683132587, 0.22916666666666666, 'X[16] <= -2.156\\ngini = 0.0\\nsamples = 155487\\nvalue = [155483, 4]'),\n",
       " Text(0.5380793926043961, 0.1875, 'X[16] <= -2.156\\ngini = 0.001\\nsamples = 1772\\nvalue = [1771, 1]'),\n",
       " Text(0.5284810423208511, 0.14583333333333334, 'gini = 0.0\\nsamples = 1771\\nvalue = [1771, 0]'),\n",
       " Text(0.5476777428879411, 0.14583333333333334, 'gini = 0.0\\nsamples = 1\\nvalue = [0, 1]'),\n",
       " Text(0.5860711440221212, 0.1875, 'X[3] <= 1.972\\ngini = 0.0\\nsamples = 153715\\nvalue = [153712, 3]'),\n",
       " Text(0.5668744434550311, 0.14583333333333334, 'X[13] <= 1.575\\ngini = 0.0\\nsamples = 145900\\nvalue = [145899, 1]'),\n",
       " Text(0.5572760931714862, 0.10416666666666667, 'gini = 0.0\\nsamples = 138247\\nvalue = [138247, 0]'),\n",
       " Text(0.5764727937385762, 0.10416666666666667, 'X[13] <= 1.575\\ngini = 0.0\\nsamples = 7653\\nvalue = [7652, 1]'),\n",
       " Text(0.5668744434550311, 0.0625, 'gini = 0.0\\nsamples = 1\\nvalue = [0, 1]'),\n",
       " Text(0.5860711440221212, 0.0625, 'gini = 0.0\\nsamples = 7652\\nvalue = [7652, 0]'),\n",
       " Text(0.6052678445892112, 0.14583333333333334, 'X[3] <= 1.972\\ngini = 0.001\\nsamples = 7815\\nvalue = [7813, 2]'),\n",
       " Text(0.5956694943056662, 0.10416666666666667, 'gini = 0.0\\nsamples = 1\\nvalue = [0, 1]'),\n",
       " Text(0.6148661948727563, 0.10416666666666667, 'X[21] <= 0.863\\ngini = 0.0\\nsamples = 7814\\nvalue = [7813, 1]'),\n",
       " Text(0.6052678445892112, 0.0625, 'gini = 0.0\\nsamples = 7670\\nvalue = [7670, 0]'),\n",
       " Text(0.6244645451563012, 0.0625, 'X[21] <= 0.868\\ngini = 0.014\\nsamples = 144\\nvalue = [143, 1]'),\n",
       " Text(0.6148661948727563, 0.020833333333333332, 'gini = 0.0\\nsamples = 1\\nvalue = [0, 1]'),\n",
       " Text(0.6340628954398463, 0.020833333333333332, 'gini = 0.0\\nsamples = 143\\nvalue = [143, 0]'),\n",
       " Text(0.6148661948727563, 0.22916666666666666, 'X[26] <= 1.247\\ngini = 0.002\\nsamples = 968\\nvalue = [967, 1]'),\n",
       " Text(0.6052678445892112, 0.1875, 'gini = 0.0\\nsamples = 1\\nvalue = [0, 1]'),\n",
       " Text(0.6244645451563012, 0.1875, 'gini = 0.0\\nsamples = 967\\nvalue = [967, 0]'),\n",
       " Text(0.6436612457233913, 0.2708333333333333, 'X[23] <= 0.778\\ngini = 0.001\\nsamples = 3104\\nvalue = [3102, 2]'),\n",
       " Text(0.6340628954398463, 0.22916666666666666, 'gini = 0.0\\nsamples = 1\\nvalue = [0, 1]'),\n",
       " Text(0.6532595960069363, 0.22916666666666666, 'X[19] <= -1.14\\ngini = 0.001\\nsamples = 3103\\nvalue = [3102, 1]'),\n",
       " Text(0.6436612457233913, 0.1875, 'X[19] <= -1.141\\ngini = 0.012\\nsamples = 167\\nvalue = [166, 1]'),\n",
       " Text(0.6340628954398463, 0.14583333333333334, 'gini = 0.0\\nsamples = 166\\nvalue = [166, 0]'),\n",
       " Text(0.6532595960069363, 0.14583333333333334, 'gini = 0.0\\nsamples = 1\\nvalue = [0, 1]'),\n",
       " Text(0.6628579462904813, 0.1875, 'gini = 0.0\\nsamples = 2936\\nvalue = [2936, 0]'),\n",
       " Text(0.6640577400759244, 0.4791666666666667, 'X[7] <= 2.881\\ngini = 0.006\\nsamples = 1357\\nvalue = [1353, 4]'),\n",
       " Text(0.6544593897923794, 0.4375, 'gini = 0.0\\nsamples = 1\\nvalue = [0, 1]'),\n",
       " Text(0.6736560903594695, 0.4375, 'X[5] <= -0.011\\ngini = 0.004\\nsamples = 1356\\nvalue = [1353, 3]'),\n",
       " Text(0.6544593897923794, 0.3958333333333333, 'X[29] <= 549.53\\ngini = 0.002\\nsamples = 1243\\nvalue = [1242, 1]'),\n",
       " Text(0.6448610395088344, 0.3541666666666667, 'X[29] <= 548.53\\ngini = 0.033\\nsamples = 60\\nvalue = [59, 1]'),\n",
       " Text(0.6352626892252894, 0.3125, 'gini = 0.0\\nsamples = 59\\nvalue = [59, 0]'),\n",
       " Text(0.6544593897923794, 0.3125, 'gini = 0.0\\nsamples = 1\\nvalue = [0, 1]'),\n",
       " Text(0.6640577400759244, 0.3541666666666667, 'gini = 0.0\\nsamples = 1183\\nvalue = [1183, 0]'),\n",
       " Text(0.6928527909265595, 0.3958333333333333, 'X[5] <= -0.001\\ngini = 0.035\\nsamples = 113\\nvalue = [111, 2]'),\n",
       " Text(0.6832544406430144, 0.3541666666666667, 'gini = 0.0\\nsamples = 1\\nvalue = [0, 1]'),\n",
       " Text(0.7024511412101045, 0.3541666666666667, 'X[25] <= -0.882\\ngini = 0.018\\nsamples = 112\\nvalue = [111, 1]'),\n",
       " Text(0.6928527909265595, 0.3125, 'X[15] <= -0.155\\ngini = 0.32\\nsamples = 5\\nvalue = [4, 1]'),\n",
       " Text(0.6832544406430144, 0.2708333333333333, 'gini = 0.0\\nsamples = 4\\nvalue = [4, 0]'),\n",
       " Text(0.7024511412101045, 0.2708333333333333, 'gini = 0.0\\nsamples = 1\\nvalue = [0, 1]'),\n",
       " Text(0.7120494914936495, 0.3125, 'gini = 0.0\\nsamples = 107\\nvalue = [107, 0]'),\n",
       " Text(0.5405164737310775, 0.5625, 'X[28] <= 0.155\\ngini = 0.069\\nsamples = 28\\nvalue = [27, 1]'),\n",
       " Text(0.5309181234475324, 0.5208333333333334, 'gini = 0.0\\nsamples = 27\\nvalue = [27, 0]'),\n",
       " Text(0.5501148240146225, 0.5208333333333334, 'gini = 0.0\\nsamples = 1\\nvalue = [0, 1]'),\n",
       " Text(0.8332286638234053, 0.6041666666666666, 'X[17] <= 1.68\\ngini = 0.006\\nsamples = 4539\\nvalue = [4525, 14]'),\n",
       " Text(0.8236303135398604, 0.5625, 'gini = 0.0\\nsamples = 1\\nvalue = [0, 1]'),\n",
       " Text(0.8428270141069504, 0.5625, 'X[4] <= 2.484\\ngini = 0.006\\nsamples = 4538\\nvalue = [4525, 13]'),\n",
       " Text(0.800834231616441, 0.5208333333333334, 'X[21] <= 2.829\\ngini = 0.003\\nsamples = 4280\\nvalue = [4274, 6]'),\n",
       " Text(0.7744387683366921, 0.4791666666666667, 'X[7] <= 4.006\\ngini = 0.001\\nsamples = 4195\\nvalue = [4192, 3]'),\n",
       " Text(0.7504428926278296, 0.4375, 'X[1] <= 2.132\\ngini = 0.001\\nsamples = 4184\\nvalue = [4182, 2]'),\n",
       " Text(0.7312461920607396, 0.3958333333333333, 'X[29] <= 275.08\\ngini = 0.0\\nsamples = 4145\\nvalue = [4144, 1]'),\n",
       " Text(0.7216478417771945, 0.3541666666666667, 'gini = 0.0\\nsamples = 3970\\nvalue = [3970, 0]'),\n",
       " Text(0.7408445423442845, 0.3541666666666667, 'X[29] <= 278.085\\ngini = 0.011\\nsamples = 175\\nvalue = [174, 1]'),\n",
       " Text(0.7312461920607396, 0.3125, 'gini = 0.0\\nsamples = 1\\nvalue = [0, 1]'),\n",
       " Text(0.7504428926278296, 0.3125, 'gini = 0.0\\nsamples = 174\\nvalue = [174, 0]'),\n",
       " Text(0.7696395931949196, 0.3958333333333333, 'X[1] <= 2.132\\ngini = 0.05\\nsamples = 39\\nvalue = [38, 1]'),\n",
       " Text(0.7600412429113746, 0.3541666666666667, 'gini = 0.0\\nsamples = 1\\nvalue = [0, 1]'),\n",
       " Text(0.7792379434784646, 0.3541666666666667, 'gini = 0.0\\nsamples = 38\\nvalue = [38, 0]'),\n",
       " Text(0.7984346440455546, 0.4375, 'X[25] <= 1.239\\ngini = 0.165\\nsamples = 11\\nvalue = [10, 1]'),\n",
       " Text(0.7888362937620097, 0.3958333333333333, 'gini = 0.0\\nsamples = 10\\nvalue = [10, 0]'),\n",
       " Text(0.8080329943290997, 0.3958333333333333, 'gini = 0.0\\nsamples = 1\\nvalue = [0, 1]'),\n",
       " Text(0.8272296948961897, 0.4791666666666667, 'X[21] <= 2.845\\ngini = 0.068\\nsamples = 85\\nvalue = [82, 3]'),\n",
       " Text(0.8176313446126448, 0.4375, 'gini = 0.0\\nsamples = 1\\nvalue = [0, 1]'),\n",
       " Text(0.8368280451797347, 0.4375, 'X[25] <= -1.298\\ngini = 0.046\\nsamples = 84\\nvalue = [82, 2]'),\n",
       " Text(0.8272296948961897, 0.3958333333333333, 'gini = 0.0\\nsamples = 1\\nvalue = [0, 1]'),\n",
       " Text(0.8464263954632798, 0.3958333333333333, 'X[14] <= -3.389\\ngini = 0.024\\nsamples = 83\\nvalue = [82, 1]'),\n",
       " Text(0.8368280451797347, 0.3541666666666667, 'X[6] <= 0.78\\ngini = 0.375\\nsamples = 4\\nvalue = [3, 1]'),\n",
       " Text(0.8272296948961897, 0.3125, 'gini = 0.0\\nsamples = 3\\nvalue = [3, 0]'),\n",
       " Text(0.8464263954632798, 0.3125, 'gini = 0.0\\nsamples = 1\\nvalue = [0, 1]'),\n",
       " Text(0.8560247457468247, 0.3541666666666667, 'gini = 0.0\\nsamples = 79\\nvalue = [79, 0]'),\n",
       " Text(0.8848197965974598, 0.5208333333333334, 'X[4] <= 2.492\\ngini = 0.053\\nsamples = 258\\nvalue = [251, 7]'),\n",
       " Text(0.8752214463139147, 0.4791666666666667, 'gini = 0.0\\nsamples = 1\\nvalue = [0, 1]'),\n",
       " Text(0.8944181468810048, 0.4791666666666667, 'X[1] <= 1.027\\ngini = 0.046\\nsamples = 257\\nvalue = [251, 6]'),\n",
       " Text(0.8848197965974598, 0.4375, 'gini = 0.0\\nsamples = 210\\nvalue = [210, 0]'),\n",
       " Text(0.9040164971645498, 0.4375, 'X[0] <= 26373.0\\ngini = 0.223\\nsamples = 47\\nvalue = [41, 6]'),\n",
       " Text(0.8848197965974598, 0.3958333333333333, 'X[28] <= 0.041\\ngini = 0.32\\nsamples = 5\\nvalue = [1, 4]'),\n",
       " Text(0.8752214463139147, 0.3541666666666667, 'gini = 0.0\\nsamples = 1\\nvalue = [1, 0]'),\n",
       " Text(0.8944181468810048, 0.3541666666666667, 'gini = 0.0\\nsamples = 4\\nvalue = [0, 4]'),\n",
       " Text(0.9232131977316399, 0.3958333333333333, 'X[17] <= 1.721\\ngini = 0.091\\nsamples = 42\\nvalue = [40, 2]'),\n",
       " Text(0.9136148474480948, 0.3541666666666667, 'gini = 0.0\\nsamples = 1\\nvalue = [0, 1]'),\n",
       " Text(0.9328115480151848, 0.3541666666666667, 'X[22] <= 0.715\\ngini = 0.048\\nsamples = 41\\nvalue = [40, 1]'),\n",
       " Text(0.9232131977316399, 0.3125, 'gini = 0.0\\nsamples = 40\\nvalue = [40, 0]'),\n",
       " Text(0.9424098982987299, 0.3125, 'gini = 0.0\\nsamples = 1\\nvalue = [0, 1]'),\n",
       " Text(0.952008248582275, 0.6875, 'X[4] <= 4.821\\ngini = 0.019\\nsamples = 510\\nvalue = [505, 5]'),\n",
       " Text(0.9424098982987299, 0.6458333333333334, 'gini = 0.0\\nsamples = 1\\nvalue = [0, 1]'),\n",
       " Text(0.9616065988658199, 0.6458333333333334, 'X[16] <= -0.481\\ngini = 0.016\\nsamples = 509\\nvalue = [505, 4]'),\n",
       " Text(0.9424098982987299, 0.6041666666666666, 'X[10] <= 3.929\\ngini = 0.073\\nsamples = 79\\nvalue = [76, 3]'),\n",
       " Text(0.9328115480151848, 0.5625, 'X[16] <= -0.495\\ngini = 0.05\\nsamples = 78\\nvalue = [76, 2]'),\n",
       " Text(0.9232131977316399, 0.5208333333333334, 'X[0] <= 163116.0\\ngini = 0.026\\nsamples = 77\\nvalue = [76, 1]'),\n",
       " Text(0.9136148474480948, 0.4791666666666667, 'gini = 0.0\\nsamples = 75\\nvalue = [75, 0]'),\n",
       " Text(0.9328115480151848, 0.4791666666666667, 'X[0] <= 167922.5\\ngini = 0.5\\nsamples = 2\\nvalue = [1, 1]'),\n",
       " Text(0.9232131977316399, 0.4375, 'gini = 0.0\\nsamples = 1\\nvalue = [0, 1]'),\n",
       " Text(0.9424098982987299, 0.4375, 'gini = 0.0\\nsamples = 1\\nvalue = [1, 0]'),\n",
       " Text(0.9424098982987299, 0.5208333333333334, 'gini = 0.0\\nsamples = 1\\nvalue = [0, 1]'),\n",
       " Text(0.952008248582275, 0.5625, 'gini = 0.0\\nsamples = 1\\nvalue = [0, 1]'),\n",
       " Text(0.98080329943291, 0.6041666666666666, 'X[4] <= 4.834\\ngini = 0.005\\nsamples = 430\\nvalue = [429, 1]'),\n",
       " Text(0.971204949149365, 0.5625, 'X[19] <= -1.33\\ngini = 0.142\\nsamples = 13\\nvalue = [12, 1]'),\n",
       " Text(0.9616065988658199, 0.5208333333333334, 'gini = 0.0\\nsamples = 1\\nvalue = [0, 1]'),\n",
       " Text(0.98080329943291, 0.5208333333333334, 'gini = 0.0\\nsamples = 12\\nvalue = [12, 0]'),\n",
       " Text(0.990401649716455, 0.5625, 'gini = 0.0\\nsamples = 417\\nvalue = [417, 0]')]"
      ]
     },
     "execution_count": 33,
     "metadata": {},
     "output_type": "execute_result"
    },
    {
     "data": {
      "image/png": "[encoded data removed]",
      "text/plain": [
       "<Figure size 864x576 with 1 Axes>"
      ]
     },
     "metadata": {
      "needs_background": "light"
     },
     "output_type": "display_data"
    }
   ],
   "source": [
    "plt.figure(figsize=(12,8))\n",
    "tree.plot_tree(decision_tree.fit(X_train,y_train))"
   ]
  },
  {
   "cell_type": "markdown",
   "id": "70bdf3a0",
   "metadata": {},
   "source": [
    "# 3 .Adaboost"
   ]
  },
  {
   "cell_type": "code",
   "execution_count": 34,
   "id": "ab4aa90d",
   "metadata": {},
   "outputs": [],
   "source": [
    "from sklearn.ensemble import AdaBoostClassifier\n"
   ]
  },
  {
   "cell_type": "code",
   "execution_count": 35,
   "id": "d2aebb41",
   "metadata": {},
   "outputs": [],
   "source": [
    "ada = AdaBoostClassifier()"
   ]
  },
  {
   "cell_type": "code",
   "execution_count": 36,
   "id": "2d873fb8",
   "metadata": {},
   "outputs": [
    {
     "data": {
      "text/plain": [
       "AdaBoostClassifier()"
      ]
     },
     "execution_count": 36,
     "metadata": {},
     "output_type": "execute_result"
    }
   ],
   "source": [
    "#Train the model on the training\n",
    "ada.fit(X_train, y_train)"
   ]
  },
  {
   "cell_type": "code",
   "execution_count": 37,
   "id": "a8a86a2b",
   "metadata": {},
   "outputs": [
    {
     "data": {
      "text/plain": [
       "0.9991381786842861"
      ]
     },
     "execution_count": 37,
     "metadata": {},
     "output_type": "execute_result"
    }
   ],
   "source": [
    "#accuracy on the test data\n",
    "accuracy = decision_tree.score(X_test, y_test)\n",
    "accuracy"
   ]
  },
  {
   "cell_type": "code",
   "execution_count": 38,
   "id": "2f5c9513",
   "metadata": {},
   "outputs": [
    {
     "data": {
      "text/plain": [
       "array([1, 0, 0, ..., 0, 0, 0], dtype=int64)"
      ]
     },
     "execution_count": 38,
     "metadata": {},
     "output_type": "execute_result"
    }
   ],
   "source": [
    "#Predict the labels for the test set\n",
    "y_pred2= ada.predict(X_test)\n",
    "y_pred2"
   ]
  },
  {
   "cell_type": "code",
   "execution_count": 39,
   "id": "2d05da8d",
   "metadata": {},
   "outputs": [
    {
     "data": {
      "text/plain": [
       "0.9993828933788715"
      ]
     },
     "execution_count": 39,
     "metadata": {},
     "output_type": "execute_result"
    }
   ],
   "source": [
    "accuracy_score(y_test, y_pred2)"
   ]
  },
  {
   "cell_type": "code",
   "execution_count": 40,
   "id": "35659aa3",
   "metadata": {},
   "outputs": [],
   "source": [
    "from sklearn.metrics import classification_report"
   ]
  },
  {
   "cell_type": "code",
   "execution_count": 41,
   "id": "5217846e",
   "metadata": {},
   "outputs": [
    {
     "name": "stdout",
     "output_type": "stream",
     "text": [
      "              precision    recall  f1-score   support\n",
      "\n",
      "           0       1.00      1.00      1.00     93838\n",
      "           1       0.71      0.81      0.75       149\n",
      "\n",
      "    accuracy                           1.00     93987\n",
      "   macro avg       0.85      0.90      0.88     93987\n",
      "weighted avg       1.00      1.00      1.00     93987\n",
      "\n"
     ]
    }
   ],
   "source": [
    "cr=(classification_report(y_test,y_pred1))\n",
    "print(cr)"
   ]
  },
  {
   "cell_type": "markdown",
   "id": "d04104cd",
   "metadata": {},
   "source": [
    "# using Hyper tuning parameter With the Adaboost"
   ]
  },
  {
   "cell_type": "code",
   "execution_count": 42,
   "id": "ddbb5308",
   "metadata": {},
   "outputs": [
    {
     "data": {
      "text/plain": [
       "AdaBoostClassifier(learning_rate=0.1, n_estimators=100)"
      ]
     },
     "execution_count": 42,
     "metadata": {},
     "output_type": "execute_result"
    }
   ],
   "source": [
    "ada = AdaBoostClassifier(n_estimators=100, learning_rate=0.1)\n",
    "ada"
   ]
  },
  {
   "cell_type": "code",
   "execution_count": 43,
   "id": "34c7ac02",
   "metadata": {},
   "outputs": [
    {
     "data": {
      "text/plain": [
       "AdaBoostClassifier(learning_rate=0.1, n_estimators=100)"
      ]
     },
     "execution_count": 43,
     "metadata": {},
     "output_type": "execute_result"
    }
   ],
   "source": [
    "#Train the model on the training\n",
    "ada.fit(X_train, y_train)"
   ]
  },
  {
   "cell_type": "code",
   "execution_count": 44,
   "id": "c3e6e08c",
   "metadata": {},
   "outputs": [
    {
     "data": {
      "text/plain": [
       "array([1, 0, 0, ..., 0, 0, 0], dtype=int64)"
      ]
     },
     "execution_count": 44,
     "metadata": {},
     "output_type": "execute_result"
    }
   ],
   "source": [
    "##Predict the labels for the test set\n",
    "y_pred3 = ada.predict(X_test)\n",
    "y_pred3"
   ]
  },
  {
   "cell_type": "code",
   "execution_count": 45,
   "id": "2efc84e1",
   "metadata": {},
   "outputs": [
    {
     "data": {
      "text/plain": [
       "0.9993296945322225"
      ]
     },
     "execution_count": 45,
     "metadata": {},
     "output_type": "execute_result"
    }
   ],
   "source": [
    "accuracy_score(y_test, y_pred3)"
   ]
  },
  {
   "cell_type": "code",
   "execution_count": 46,
   "id": "546136be",
   "metadata": {},
   "outputs": [
    {
     "name": "stdout",
     "output_type": "stream",
     "text": [
      "              precision    recall  f1-score   support\n",
      "\n",
      "           0       1.00      1.00      1.00     93838\n",
      "           1       0.88      0.66      0.76       149\n",
      "\n",
      "    accuracy                           1.00     93987\n",
      "   macro avg       0.94      0.83      0.88     93987\n",
      "weighted avg       1.00      1.00      1.00     93987\n",
      "\n"
     ]
    }
   ],
   "source": [
    "cr=(classification_report(y_test,y_pred3))\n",
    "print(cr)"
   ]
  },
  {
   "cell_type": "markdown",
   "id": "1f3bdb40",
   "metadata": {},
   "source": [
    "# 4. GradientBoostingClassifier"
   ]
  },
  {
   "cell_type": "code",
   "execution_count": 47,
   "id": "076f2418",
   "metadata": {},
   "outputs": [],
   "source": [
    "from sklearn.ensemble import GradientBoostingClassifier"
   ]
  },
  {
   "cell_type": "code",
   "execution_count": 48,
   "id": "74cec854",
   "metadata": {},
   "outputs": [
    {
     "data": {
      "text/plain": [
       "GradientBoostingClassifier()"
      ]
     },
     "execution_count": 48,
     "metadata": {},
     "output_type": "execute_result"
    }
   ],
   "source": [
    "xg = GradientBoostingClassifier()\n",
    "xg"
   ]
  },
  {
   "cell_type": "code",
   "execution_count": 49,
   "id": "2509a45c",
   "metadata": {},
   "outputs": [
    {
     "data": {
      "text/plain": [
       "GradientBoostingClassifier()"
      ]
     },
     "execution_count": 49,
     "metadata": {},
     "output_type": "execute_result"
    }
   ],
   "source": [
    "#Train the model on the training\n",
    "xg.fit(X_train, y_train)"
   ]
  },
  {
   "cell_type": "code",
   "execution_count": 50,
   "id": "9ef77184",
   "metadata": {},
   "outputs": [
    {
     "data": {
      "text/plain": [
       "0.9985529913711471"
      ]
     },
     "execution_count": 50,
     "metadata": {},
     "output_type": "execute_result"
    }
   ],
   "source": [
    "#accuracy on the test data\n",
    "accuracy = xg.score(X_test, y_test)\n",
    "accuracy"
   ]
  },
  {
   "cell_type": "code",
   "execution_count": 51,
   "id": "806decdf",
   "metadata": {},
   "outputs": [
    {
     "data": {
      "text/plain": [
       "array([0, 0, 0, ..., 0, 0, 0], dtype=int64)"
      ]
     },
     "execution_count": 51,
     "metadata": {},
     "output_type": "execute_result"
    }
   ],
   "source": [
    "#Predict the labels for the test set\n",
    "y_pred4=xg.predict(X_test)\n",
    "y_pred4"
   ]
  },
  {
   "cell_type": "code",
   "execution_count": 52,
   "id": "12142ade",
   "metadata": {},
   "outputs": [
    {
     "data": {
      "text/plain": [
       "0.9985529913711471"
      ]
     },
     "execution_count": 52,
     "metadata": {},
     "output_type": "execute_result"
    }
   ],
   "source": [
    "#Evaluate the model accuracy train data\n",
    "accuracy_score(y_test,y_pred4)"
   ]
  },
  {
   "cell_type": "code",
   "execution_count": 53,
   "id": "4956183c",
   "metadata": {},
   "outputs": [
    {
     "name": "stdout",
     "output_type": "stream",
     "text": [
      "              precision    recall  f1-score   support\n",
      "\n",
      "           0       1.00      1.00      1.00     93838\n",
      "           1       0.60      0.26      0.36       149\n",
      "\n",
      "    accuracy                           1.00     93987\n",
      "   macro avg       0.80      0.63      0.68     93987\n",
      "weighted avg       1.00      1.00      1.00     93987\n",
      "\n"
     ]
    }
   ],
   "source": [
    "cr=(classification_report(y_test,y_pred4))\n",
    "print(cr)"
   ]
  },
  {
   "cell_type": "markdown",
   "id": "cf7c7f13",
   "metadata": {},
   "source": [
    "# using Hyper tuning parameter With the Gradient Boost classifier"
   ]
  },
  {
   "cell_type": "code",
   "execution_count": 54,
   "id": "122ea280",
   "metadata": {},
   "outputs": [],
   "source": [
    "#Changed \"colsample_bytree\" to \"max_features\"\n",
    "xg = GradientBoostingClassifier(learning_rate=0.1,n_estimators=100,max_depth=3,subsample=0.8,max_features=0.8)"
   ]
  },
  {
   "cell_type": "code",
   "execution_count": 55,
   "id": "73bd5ea5",
   "metadata": {},
   "outputs": [
    {
     "data": {
      "text/plain": [
       "GradientBoostingClassifier(max_features=0.8, subsample=0.8)"
      ]
     },
     "execution_count": 55,
     "metadata": {},
     "output_type": "execute_result"
    }
   ],
   "source": [
    "xg"
   ]
  },
  {
   "cell_type": "code",
   "execution_count": 56,
   "id": "df087013",
   "metadata": {},
   "outputs": [
    {
     "data": {
      "text/plain": [
       "GradientBoostingClassifier(max_features=0.8, subsample=0.8)"
      ]
     },
     "execution_count": 56,
     "metadata": {},
     "output_type": "execute_result"
    }
   ],
   "source": [
    "#Train the model on the training\n",
    "xg.fit(X_train, y_train)"
   ]
  },
  {
   "cell_type": "code",
   "execution_count": 57,
   "id": "ef1e779d",
   "metadata": {},
   "outputs": [
    {
     "data": {
      "text/plain": [
       "array([1, 0, 0, ..., 0, 0, 0], dtype=int64)"
      ]
     },
     "execution_count": 57,
     "metadata": {},
     "output_type": "execute_result"
    }
   ],
   "source": [
    "#Predict the labels for the test set\n",
    "y_pred5= xg.predict(X_test)\n",
    "y_pred5"
   ]
  },
  {
   "cell_type": "code",
   "execution_count": 58,
   "id": "d0fcd64e",
   "metadata": {},
   "outputs": [
    {
     "data": {
      "text/plain": [
       "0.9986061902177961"
      ]
     },
     "execution_count": 58,
     "metadata": {},
     "output_type": "execute_result"
    }
   ],
   "source": [
    "#Calculate the accuracy score\n",
    "accuracy_score(y_test, y_pred5)"
   ]
  },
  {
   "cell_type": "code",
   "execution_count": 59,
   "id": "895e48c1",
   "metadata": {},
   "outputs": [
    {
     "name": "stdout",
     "output_type": "stream",
     "text": [
      "              precision    recall  f1-score   support\n",
      "\n",
      "           0       1.00      1.00      1.00     93838\n",
      "           1       0.58      0.46      0.51       149\n",
      "\n",
      "    accuracy                           1.00     93987\n",
      "   macro avg       0.79      0.73      0.75     93987\n",
      "weighted avg       1.00      1.00      1.00     93987\n",
      "\n"
     ]
    }
   ],
   "source": [
    "cr=(classification_report(y_test,y_pred5))\n",
    "print(cr)"
   ]
  },
  {
   "cell_type": "markdown",
   "id": "9b32544a",
   "metadata": {},
   "source": [
    "# Random forest Classifier"
   ]
  },
  {
   "cell_type": "code",
   "execution_count": 60,
   "id": "b7702db1",
   "metadata": {},
   "outputs": [
    {
     "data": {
      "text/plain": [
       "RandomForestClassifier()"
      ]
     },
     "execution_count": 60,
     "metadata": {},
     "output_type": "execute_result"
    }
   ],
   "source": [
    "rf = RandomForestClassifier()\n",
    "rf"
   ]
  },
  {
   "cell_type": "code",
   "execution_count": 61,
   "id": "dcd3ef9b",
   "metadata": {},
   "outputs": [
    {
     "data": {
      "text/plain": [
       "RandomForestClassifier()"
      ]
     },
     "execution_count": 61,
     "metadata": {},
     "output_type": "execute_result"
    }
   ],
   "source": [
    "#Train the model on the training\n",
    "rf.fit(X_train, y_train)"
   ]
  },
  {
   "cell_type": "code",
   "execution_count": 62,
   "id": "c75367c6",
   "metadata": {},
   "outputs": [
    {
     "data": {
      "text/plain": [
       "0.9996169683041272"
      ]
     },
     "execution_count": 62,
     "metadata": {},
     "output_type": "execute_result"
    }
   ],
   "source": [
    "accuracy = rf.score(X_test, y_test)\n",
    "accuracy"
   ]
  },
  {
   "cell_type": "code",
   "execution_count": 63,
   "id": "fa6d3ca0",
   "metadata": {},
   "outputs": [],
   "source": [
    "from sklearn.metrics import classification_report"
   ]
  },
  {
   "cell_type": "code",
   "execution_count": 64,
   "id": "85e1c592",
   "metadata": {},
   "outputs": [
    {
     "data": {
      "text/plain": [
       "array([1, 0, 0, ..., 0, 0, 0], dtype=int64)"
      ]
     },
     "execution_count": 64,
     "metadata": {},
     "output_type": "execute_result"
    }
   ],
   "source": [
    "#Predict the labels for the test set\n",
    "y_pred6 = rf.predict(X_test)\n",
    "y_pred6"
   ]
  },
  {
   "cell_type": "code",
   "execution_count": 65,
   "id": "0e4289fe",
   "metadata": {},
   "outputs": [
    {
     "data": {
      "text/plain": [
       "0.9996169683041272"
      ]
     },
     "execution_count": 65,
     "metadata": {},
     "output_type": "execute_result"
    }
   ],
   "source": [
    "accuracy_score(y_test,y_pred6)"
   ]
  },
  {
   "cell_type": "code",
   "execution_count": 66,
   "id": "a578def2",
   "metadata": {},
   "outputs": [
    {
     "name": "stdout",
     "output_type": "stream",
     "text": [
      "              precision    recall  f1-score   support\n",
      "\n",
      "           0       1.00      1.00      1.00     93838\n",
      "           1       0.94      0.81      0.87       149\n",
      "\n",
      "    accuracy                           1.00     93987\n",
      "   macro avg       0.97      0.91      0.94     93987\n",
      "weighted avg       1.00      1.00      1.00     93987\n",
      "\n"
     ]
    }
   ],
   "source": [
    "cr=(classification_report(y_test,y_pred6))\n",
    "print(cr)"
   ]
  },
  {
   "cell_type": "markdown",
   "id": "255b001b",
   "metadata": {},
   "source": [
    "# using Hyper tuning parameter With the RandomForestClssifier"
   ]
  },
  {
   "cell_type": "code",
   "execution_count": 67,
   "id": "a78a3cb1",
   "metadata": {},
   "outputs": [],
   "source": [
    "from sklearn.ensemble import RandomForestClassifier"
   ]
  },
  {
   "cell_type": "code",
   "execution_count": 68,
   "id": "aba26199",
   "metadata": {},
   "outputs": [
    {
     "data": {
      "text/plain": [
       "RandomForestClassifier(n_estimators=200)"
      ]
     },
     "execution_count": 68,
     "metadata": {},
     "output_type": "execute_result"
    }
   ],
   "source": [
    "rf = RandomForestClassifier(n_estimators=200,criterion='gini')\n",
    "rf"
   ]
  },
  {
   "cell_type": "code",
   "execution_count": 69,
   "id": "8d08b67a",
   "metadata": {},
   "outputs": [
    {
     "data": {
      "text/plain": [
       "RandomForestClassifier(n_estimators=200)"
      ]
     },
     "execution_count": 69,
     "metadata": {},
     "output_type": "execute_result"
    }
   ],
   "source": [
    "#Train the model on the training data\n",
    "rf.fit(X_train, y_train)"
   ]
  },
  {
   "cell_type": "code",
   "execution_count": 70,
   "id": "0866ab8a",
   "metadata": {},
   "outputs": [
    {
     "data": {
      "text/plain": [
       "0.9996063285347974"
      ]
     },
     "execution_count": 70,
     "metadata": {},
     "output_type": "execute_result"
    }
   ],
   "source": [
    "# Evaluate the model's accuracy on the test data\n",
    "accuracy = rf.score(X_test, y_test)\n",
    "accuracy"
   ]
  },
  {
   "cell_type": "code",
   "execution_count": 71,
   "id": "3dd39264",
   "metadata": {},
   "outputs": [
    {
     "data": {
      "text/plain": [
       "array([1, 0, 0, ..., 0, 0, 0], dtype=int64)"
      ]
     },
     "execution_count": 71,
     "metadata": {},
     "output_type": "execute_result"
    }
   ],
   "source": [
    "y_pred7=rf.predict(X_test)\n",
    "y_pred7"
   ]
  },
  {
   "cell_type": "code",
   "execution_count": 72,
   "id": "00a72528",
   "metadata": {},
   "outputs": [
    {
     "data": {
      "text/plain": [
       "0.9996063285347974"
      ]
     },
     "execution_count": 72,
     "metadata": {},
     "output_type": "execute_result"
    }
   ],
   "source": [
    "accuracy_score(y_test,y_pred7)"
   ]
  },
  {
   "cell_type": "code",
   "execution_count": 77,
   "id": "494f1734",
   "metadata": {},
   "outputs": [
    {
     "name": "stdout",
     "output_type": "stream",
     "text": [
      "              precision    recall  f1-score   support\n",
      "\n",
      "           0       1.00      1.00      1.00     93838\n",
      "           1       0.93      0.81      0.87       149\n",
      "\n",
      "    accuracy                           1.00     93987\n",
      "   macro avg       0.97      0.91      0.93     93987\n",
      "weighted avg       1.00      1.00      1.00     93987\n",
      "\n"
     ]
    }
   ],
   "source": [
    "cr=(classification_report(y_test,y_pred7))\n",
    "print(cr)"
   ]
  },
  {
   "cell_type": "markdown",
   "id": "af86dd7c",
   "metadata": {},
   "source": [
    "# SVC"
   ]
  },
  {
   "cell_type": "code",
   "execution_count": 78,
   "id": "5af78aa0",
   "metadata": {},
   "outputs": [],
   "source": [
    "df = SVC()"
   ]
  },
  {
   "cell_type": "code",
   "execution_count": 79,
   "id": "9917221c",
   "metadata": {},
   "outputs": [
    {
     "data": {
      "text/plain": [
       "SVC()"
      ]
     },
     "execution_count": 79,
     "metadata": {},
     "output_type": "execute_result"
    }
   ],
   "source": [
    "#Train the model on the training\n",
    "df.fit(X_train,y_train)"
   ]
  },
  {
   "cell_type": "code",
   "execution_count": 80,
   "id": "c1ba2e68",
   "metadata": {},
   "outputs": [
    {
     "data": {
      "text/plain": [
       "0.9984146743698596"
      ]
     },
     "execution_count": 80,
     "metadata": {},
     "output_type": "execute_result"
    }
   ],
   "source": [
    "df.score(X_test,y_test)"
   ]
  },
  {
   "cell_type": "code",
   "execution_count": 81,
   "id": "7e8279a0",
   "metadata": {},
   "outputs": [
    {
     "data": {
      "text/plain": [
       "array([0, 0, 0, ..., 0, 0, 0], dtype=int64)"
      ]
     },
     "execution_count": 81,
     "metadata": {},
     "output_type": "execute_result"
    }
   ],
   "source": [
    "y_pred8=df.predict(X_test)\n",
    "y_pred8"
   ]
  },
  {
   "cell_type": "code",
   "execution_count": 82,
   "id": "32afe148",
   "metadata": {},
   "outputs": [
    {
     "data": {
      "text/plain": [
       "0.9984146743698596"
      ]
     },
     "execution_count": 82,
     "metadata": {},
     "output_type": "execute_result"
    }
   ],
   "source": [
    "accuracy_score(y_test,y_pred8)"
   ]
  },
  {
   "cell_type": "markdown",
   "id": "e4574930",
   "metadata": {},
   "source": [
    "# SVC using hyper tunning parameter"
   ]
  },
  {
   "cell_type": "code",
   "execution_count": 83,
   "id": "d36ad94f",
   "metadata": {},
   "outputs": [
    {
     "data": {
      "text/plain": [
       "SVC(kernel='poly')"
      ]
     },
     "execution_count": 83,
     "metadata": {},
     "output_type": "execute_result"
    }
   ],
   "source": [
    "svc = SVC(kernel='poly')\n",
    "svc"
   ]
  },
  {
   "cell_type": "code",
   "execution_count": 84,
   "id": "37c143f7",
   "metadata": {},
   "outputs": [
    {
     "data": {
      "text/plain": [
       "SVC(kernel='poly')"
      ]
     },
     "execution_count": 84,
     "metadata": {},
     "output_type": "execute_result"
    }
   ],
   "source": [
    "svc.fit(X_train, y_train)"
   ]
  },
  {
   "cell_type": "code",
   "execution_count": 85,
   "id": "e9984c79",
   "metadata": {},
   "outputs": [
    {
     "data": {
      "text/plain": [
       "array([0, 0, 0, ..., 0, 0, 0], dtype=int64)"
      ]
     },
     "execution_count": 85,
     "metadata": {},
     "output_type": "execute_result"
    }
   ],
   "source": [
    "y_pred9 = svc.predict(X_test)\n",
    "y_pred9"
   ]
  },
  {
   "cell_type": "code",
   "execution_count": 86,
   "id": "e3e06e98",
   "metadata": {},
   "outputs": [
    {
     "data": {
      "text/plain": [
       "0.9984146743698596"
      ]
     },
     "execution_count": 86,
     "metadata": {},
     "output_type": "execute_result"
    }
   ],
   "source": [
    "accuracy_score(y_test,y_pred9)"
   ]
  },
  {
   "cell_type": "code",
   "execution_count": 87,
   "id": "a6447dcb",
   "metadata": {},
   "outputs": [
    {
     "name": "stdout",
     "output_type": "stream",
     "text": [
      "              precision    recall  f1-score   support\n",
      "\n",
      "           0       1.00      1.00      1.00     93838\n",
      "           1       0.00      0.00      0.00       149\n",
      "\n",
      "    accuracy                           1.00     93987\n",
      "   macro avg       0.50      0.50      0.50     93987\n",
      "weighted avg       1.00      1.00      1.00     93987\n",
      "\n"
     ]
    }
   ],
   "source": [
    "cr=(classification_report(y_test,y_pred9))\n",
    "print(cr)"
   ]
  },
  {
   "cell_type": "code",
   "execution_count": 103,
   "id": "fdb83b11",
   "metadata": {},
   "outputs": [],
   "source": [
    "#check final accurancy\n",
    "final_acc= pd.DataFrame({'Models':['log_r',\"DecisionTreeClassifier\",\"AdaBoost\",\"AdaBoost_para\",\"GradientBoosting\",\"GradientBoosting_para\",\"RandomForest\",\"RandomForest_para\",\"SVC\",\"SVC_para\"],\n",
    "                       'ACC':[accuracy_score(y_test,y_pred),\n",
    "                              accuracy_score(y_test,y_pred1),\n",
    "                              accuracy_score(y_test,y_pred2),\n",
    "                              accuracy_score(y_test,y_pred3),\n",
    "                              accuracy_score(y_test,y_pred4),\n",
    "                              accuracy_score(y_test,y_pred5),\n",
    "                              accuracy_score(y_test,y_pred6),\n",
    "                              accuracy_score(y_test,y_pred7),\n",
    "                              accuracy_score(y_test,y_pred8),\n",
    "                              accuracy_score(y_test,y_pred9),\n",
    "                              \n",
    "    \n",
    "]})"
   ]
  },
  {
   "cell_type": "code",
   "execution_count": 104,
   "id": "9dbf2cc4",
   "metadata": {},
   "outputs": [
    {
     "data": {
      "text/html": [
       "<div>\n",
       "<style scoped>\n",
       "    .dataframe tbody tr th:only-of-type {\n",
       "        vertical-align: middle;\n",
       "    }\n",
       "\n",
       "    .dataframe tbody tr th {\n",
       "        vertical-align: top;\n",
       "    }\n",
       "\n",
       "    .dataframe thead th {\n",
       "        text-align: right;\n",
       "    }\n",
       "</style>\n",
       "<table border=\"1\" class=\"dataframe\">\n",
       "  <thead>\n",
       "    <tr style=\"text-align: right;\">\n",
       "      <th></th>\n",
       "      <th>Models</th>\n",
       "      <th>ACC</th>\n",
       "    </tr>\n",
       "  </thead>\n",
       "  <tbody>\n",
       "    <tr>\n",
       "      <th>0</th>\n",
       "      <td>log_r</td>\n",
       "      <td>0.998904</td>\n",
       "    </tr>\n",
       "    <tr>\n",
       "      <th>1</th>\n",
       "      <td>DecisionTreeClassifier</td>\n",
       "      <td>0.999170</td>\n",
       "    </tr>\n",
       "    <tr>\n",
       "      <th>2</th>\n",
       "      <td>AdaBoost</td>\n",
       "      <td>0.999383</td>\n",
       "    </tr>\n",
       "    <tr>\n",
       "      <th>3</th>\n",
       "      <td>AdaBoost_para</td>\n",
       "      <td>0.999330</td>\n",
       "    </tr>\n",
       "    <tr>\n",
       "      <th>4</th>\n",
       "      <td>GradientBoosting</td>\n",
       "      <td>0.998553</td>\n",
       "    </tr>\n",
       "    <tr>\n",
       "      <th>5</th>\n",
       "      <td>GradientBoosting_para</td>\n",
       "      <td>0.998606</td>\n",
       "    </tr>\n",
       "    <tr>\n",
       "      <th>6</th>\n",
       "      <td>RandomForest</td>\n",
       "      <td>0.999617</td>\n",
       "    </tr>\n",
       "    <tr>\n",
       "      <th>7</th>\n",
       "      <td>RandomForest_para</td>\n",
       "      <td>0.999606</td>\n",
       "    </tr>\n",
       "    <tr>\n",
       "      <th>8</th>\n",
       "      <td>SVC</td>\n",
       "      <td>0.998415</td>\n",
       "    </tr>\n",
       "    <tr>\n",
       "      <th>9</th>\n",
       "      <td>SVC_para</td>\n",
       "      <td>0.998415</td>\n",
       "    </tr>\n",
       "  </tbody>\n",
       "</table>\n",
       "</div>"
      ],
      "text/plain": [
       "                   Models       ACC\n",
       "0                   log_r  0.998904\n",
       "1  DecisionTreeClassifier  0.999170\n",
       "2                AdaBoost  0.999383\n",
       "3           AdaBoost_para  0.999330\n",
       "4        GradientBoosting  0.998553\n",
       "5   GradientBoosting_para  0.998606\n",
       "6            RandomForest  0.999617\n",
       "7       RandomForest_para  0.999606\n",
       "8                     SVC  0.998415\n",
       "9                SVC_para  0.998415"
      ]
     },
     "execution_count": 104,
     "metadata": {},
     "output_type": "execute_result"
    }
   ],
   "source": [
    "final_acc"
   ]
  },
  {
   "cell_type": "code",
   "execution_count": 105,
   "id": "95a4559d",
   "metadata": {},
   "outputs": [],
   "source": [
    "import seaborn as sns"
   ]
  },
  {
   "cell_type": "code",
   "execution_count": 106,
   "id": "b7c1d0ce",
   "metadata": {},
   "outputs": [],
   "source": [
    "import matplotlib.pyplot as plt"
   ]
  },
  {
   "cell_type": "code",
   "execution_count": 107,
   "id": "98ef3860",
   "metadata": {
    "scrolled": false
   },
   "outputs": [
    {
     "data": {
      "image/png": "[encoded data removed]",
      "text/plain": [
       "<Figure size 432x288 with 1 Axes>"
      ]
     },
     "metadata": {
      "needs_background": "light"
     },
     "output_type": "display_data"
    }
   ],
   "source": [
    "sns.barplot( x='ACC',y='Models', data=final_acc, orient='h')\n",
    "plt.show()"
   ]
  }
 ],
 "metadata": {
  "kernelspec": {
   "display_name": "Python 3 (ipykernel)",
   "language": "python",
   "name": "python3"
  },
  "language_info": {
   "codemirror_mode": {
    "name": "ipython",
    "version": 3
   },
   "file_extension": ".py",
   "mimetype": "text/x-python",
   "name": "python",
   "nbconvert_exporter": "python",
   "pygments_lexer": "ipython3",
   "version": "3.9.12"
  }
 },
 "nbformat": 4,
 "nbformat_minor": 5
}
